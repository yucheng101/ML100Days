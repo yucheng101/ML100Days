{
 "cells": [
  {
   "cell_type": "code",
   "execution_count": null,
   "metadata": {
    "id": "4klYNT34p73l"
   },
   "outputs": [],
   "source": []
  },
  {
   "cell_type": "markdown",
   "metadata": {
    "id": "9qndwAG5UAKi"
   },
   "source": [
    "作業目標<br>\r\n",
    "在一個陣列中放入多屬性陣列，進一步對陣列做運算<br>\r\n",
    "作業重點<br>\r\n",
    "在建立結構化陣列前需要先設定屬性，在做運算時須注意資料屬性"
   ]
  },
  {
   "cell_type": "markdown",
   "metadata": {
    "id": "48DhzHvBUB2c"
   },
   "source": [
    "題目:<br>\r\n",
    "name_list = ['小明','小華','小菁','小美','小張','John','Mark','Tom']<br>\r\n",
    "sex_list = ['boy','boy','girl','girl','boy','boy','boy','boy']<br>\r\n",
    "weight_list = [67.5,75.3,50.1,45.5,80.8,90.4,78.4,70.7]<br>\r\n",
    "rank_list = [8,1,5,4,7,6,2,3]<br>\r\n",
    "myopia_list = [True,True,False,False,True,True,False,False]<br>\r\n",
    "1. 將上列list依照['name', 'sex', 'weight', 'rank', 'myopia']順序擺入array，並且資料型態順序擺入[Unicode,Unicode,float,int,boolean]<br>\r\n",
    "2. 呈上題，將array中體重(weight)數據集取出算出全部平均體重\r\n",
    "3. 呈上題，進一步算出男生(sex欄位是boy)平均體重、女生(sex欄位是girl)平均體重\r\n"
   ]
  },
  {
   "cell_type": "code",
   "execution_count": 1,
   "metadata": {
    "id": "5n4rAx-9VgVr"
   },
   "outputs": [],
   "source": [
    "import numpy as np "
   ]
  },
  {
   "cell_type": "code",
   "execution_count": 2,
   "metadata": {
    "id": "Vl-wSYQdUBcw"
   },
   "outputs": [],
   "source": [
    "name_list = ['小明','小華','小菁','小美','小張','John','Mark','Tom']\r\n",
    "sex_list = ['boy','boy','girl','girl','boy','boy','boy','boy']\r\n",
    "weight_list = [67.5,75.3,50.1,45.5,80.8,90.4,78.4,70.7rankank_list = [8,1,5,4,7,6,2,3]\r\n",
    "myopia_list = [True,True,False,False,True,True,False,False]"
   ]
  },
  {
   "cell_type": "code",
   "execution_count": null,
   "metadata": {
    "id": "ElavkYgwVftG"
   },
   "outputs": [],
   "source": [
    "#1. 將上列list依照['name', 'sex', 'weight', 'rank', 'myopia']順序擺入array，並且資料型態順序擺入[Unicode,Unicode,float,int,boolean]"
   ]
  },
  {
   "cell_type": "code",
   "execution_count": 10,
   "metadata": {},
   "outputs": [
    {
     "data": {
      "text/plain": [
       "array([('', '', 0., 0, ''), ('', '', 0., 0, ''), ('', '', 0., 0, ''),\n",
       "       ('', '', 0., 0, ''), ('', '', 0., 0, ''), ('', '', 0., 0, ''),\n",
       "       ('', '', 0., 0, ''), ('', '', 0., 0, '')],\n",
       "      dtype=[('name', '<U5'), ('sex', '<U5'), ('weight', '<f4'), ('rank', '<i8'), ('myopia', '<U5')])"
      ]
     },
     "execution_count": 10,
     "metadata": {},
     "output_type": "execute_result"
    }
   ],
   "source": [
    "#dt 最重要\n",
    "dt = np.dtype({'names':('name','sex','weight','rank','myopia'),'formats':('U5', 'U5', 'f', 'i8', 'U5')})\n",
    "#np.zeros()次重要\n",
    "c = np.zeros(8, dtype=dt)\n",
    "c"
   ]
  },
  {
   "cell_type": "code",
   "execution_count": 11,
   "metadata": {},
   "outputs": [
    {
     "data": {
      "text/plain": [
       "array([('小明', 'boy', 67.5, 8, 'True'), ('小華', 'boy', 75.3, 1, 'True'),\n",
       "       ('小菁', 'girl', 50.1, 5, 'False'), ('小美', 'girl', 45.5, 4, 'False'),\n",
       "       ('小張', 'boy', 80.8, 7, 'True'), ('John', 'boy', 90.4, 6, 'True'),\n",
       "       ('Mark', 'boy', 78.4, 2, 'False'),\n",
       "       ('Tom', 'boy', 70.7, 3, 'False')],\n",
       "      dtype=[('name', '<U5'), ('sex', '<U5'), ('weight', '<f4'), ('rank', '<i8'), ('myopia', '<U5')])"
      ]
     },
     "execution_count": 11,
     "metadata": {},
     "output_type": "execute_result"
    }
   ],
   "source": [
    "c['name'] = name_list\n",
    "c['sex'] = sex_list\n",
    "c['weight'] = weight_list\n",
    "c['rank'] = rank_list\n",
    "c['myopia'] = myopia_list\n",
    "c"
   ]
  },
  {
   "cell_type": "code",
   "execution_count": null,
   "metadata": {
    "id": "N-xffNSVWbP1"
   },
   "outputs": [],
   "source": [
    "#2. 呈上題，將array中體重(weight)數據集取出算出全部平均體重"
   ]
  },
  {
   "cell_type": "code",
   "execution_count": 12,
   "metadata": {},
   "outputs": [
    {
     "data": {
      "text/plain": [
       "69.8375"
      ]
     },
     "execution_count": 12,
     "metadata": {},
     "output_type": "execute_result"
    }
   ],
   "source": [
    "np.nanmean(c['weight'])"
   ]
  },
  {
   "cell_type": "code",
   "execution_count": null,
   "metadata": {
    "id": "_LhLg8RiWwEm"
   },
   "outputs": [],
   "source": [
    "#3. 呈上題，進一步算出男生(sex欄位是boy)平均體重"
   ]
  },
  {
   "cell_type": "code",
   "execution_count": 15,
   "metadata": {},
   "outputs": [
    {
     "data": {
      "text/plain": [
       "array([67.5, 75.3, 80.8, 90.4, 78.4, 70.7], dtype=float32)"
      ]
     },
     "execution_count": 15,
     "metadata": {},
     "output_type": "execute_result"
    }
   ],
   "source": [
    "boy_weight = c[c['sex']=='boy']['weight']\n",
    "boy_weight"
   ]
  },
  {
   "cell_type": "code",
   "execution_count": 16,
   "metadata": {},
   "outputs": [
    {
     "data": {
      "text/plain": [
       "77.18333"
      ]
     },
     "execution_count": 16,
     "metadata": {},
     "output_type": "execute_result"
    }
   ],
   "source": [
    "np.nanmean(boy_weight)"
   ]
  },
  {
   "cell_type": "code",
   "execution_count": null,
   "metadata": {
    "id": "f_J05IPxX6fg"
   },
   "outputs": [],
   "source": [
    "#3. 呈上題，進一步算出女生(sex欄位是girl)平均體重"
   ]
  },
  {
   "cell_type": "code",
   "execution_count": 18,
   "metadata": {},
   "outputs": [
    {
     "data": {
      "text/plain": [
       "array([50.1, 45.5], dtype=float32)"
      ]
     },
     "execution_count": 18,
     "metadata": {},
     "output_type": "execute_result"
    }
   ],
   "source": [
    "girl_weight = c[c['sex']=='girl']['weight']\n",
    "girl_weight"
   ]
  },
  {
   "cell_type": "code",
   "execution_count": 19,
   "metadata": {},
   "outputs": [
    {
     "data": {
      "text/plain": [
       "47.8"
      ]
     },
     "execution_count": 19,
     "metadata": {},
     "output_type": "execute_result"
    }
   ],
   "source": [
    "np.nanmean(girl_weight)"
   ]
  },
  {
   "cell_type": "code",
   "execution_count": null,
   "metadata": {},
   "outputs": [],
   "source": []
  }
 ],
 "metadata": {
  "colab": {
   "authorship_tag": "ABX9TyNgR7Bv7joIZkErlgUY/y+3",
   "collapsed_sections": [],
   "name": "作業_Hong題目.ipynb",
   "provenance": []
  },
  "kernelspec": {
   "display_name": "Python 3",
   "language": "python",
   "name": "python3"
  },
  "language_info": {
   "codemirror_mode": {
    "name": "ipython",
    "version": 3
   },
   "file_extension": ".py",
   "mimetype": "text/x-python",
   "name": "python",
   "nbconvert_exporter": "python",
   "pygments_lexer": "ipython3",
   "version": "3.7.0"
  }
 },
 "nbformat": 4,
 "nbformat_minor": 2
}
