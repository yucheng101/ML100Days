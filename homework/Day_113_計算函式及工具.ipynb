{
 "cells": [
  {
   "cell_type": "markdown",
   "metadata": {
    "id": "QSGBlxpAWNEz"
   },
   "source": [
    "作業目標:<br>\r\n",
    "1. 敘述統計量計算<br>\r\n",
    "2. 運用自定義函數apply"
   ]
  },
  {
   "cell_type": "markdown",
   "metadata": {
    "id": "1Pl9tfEoWow-"
   },
   "source": [
    "作業重點:<br>\r\n",
    "1. 了解敘述統計量並解釋<br>\r\n",
    "2. 運用apply時須注意自定義函數寫法"
   ]
  },
  {
   "cell_type": "markdown",
   "metadata": {
    "id": "vKZoLUflW-A2"
   },
   "source": [
    "題目<br>\n",
    "對以下成績資料做分析<br>\n",
    "1. 6號學生(student_id=6)3科平均分數為何?<br>\n",
    "2. 6號學生3科平均分數是否有贏過班上一半的同學?<br>\n",
    "3. 由於班上同學成績不好，所以學校統一加分，加分方式為開根號乘以十，請問6號同學3科成績分別是?<br>\n",
    "4. 承上題，加分後各科班平均變多少?\n",
    "<br>\n",
    "score_df = pd.DataFrame([[1,56,66,70], \n",
    "              [2,90,45,34],\n",
    "              [3,45,32,55],\n",
    "              [4,70,77,89],\n",
    "              [5,56,80,70],\n",
    "              [6,60,54,55],\n",
    "              [7,45,70,79],\n",
    "              [8,34,77,76],\n",
    "              [9,25,87,60],\n",
    "              [10,88,40,43]],columns=['student_id','math_score','english_score','chinese_score'])"
   ]
  },
  {
   "cell_type": "code",
   "execution_count": 16,
   "metadata": {
    "colab": {
     "base_uri": "https://localhost:8080/",
     "height": 390
    },
    "executionInfo": {
     "elapsed": 797,
     "status": "ok",
     "timestamp": 1606626283907,
     "user": {
      "displayName": "献竤黃",
      "photoUrl": "",
      "userId": "07529243043474362942"
     },
     "user_tz": -480
    },
    "id": "cQGrCL4-YxE6",
    "outputId": "ed3581fa-0086-4963-cbac-9421138ade50"
   },
   "outputs": [
    {
     "data": {
      "text/html": [
       "<div>\n",
       "<style scoped>\n",
       "    .dataframe tbody tr th:only-of-type {\n",
       "        vertical-align: middle;\n",
       "    }\n",
       "\n",
       "    .dataframe tbody tr th {\n",
       "        vertical-align: top;\n",
       "    }\n",
       "\n",
       "    .dataframe thead th {\n",
       "        text-align: right;\n",
       "    }\n",
       "</style>\n",
       "<table border=\"1\" class=\"dataframe\">\n",
       "  <thead>\n",
       "    <tr style=\"text-align: right;\">\n",
       "      <th></th>\n",
       "      <th>math_score</th>\n",
       "      <th>english_score</th>\n",
       "      <th>chinese_score</th>\n",
       "    </tr>\n",
       "    <tr>\n",
       "      <th>student_id</th>\n",
       "      <th></th>\n",
       "      <th></th>\n",
       "      <th></th>\n",
       "    </tr>\n",
       "  </thead>\n",
       "  <tbody>\n",
       "    <tr>\n",
       "      <th>1</th>\n",
       "      <td>56</td>\n",
       "      <td>66</td>\n",
       "      <td>70</td>\n",
       "    </tr>\n",
       "    <tr>\n",
       "      <th>2</th>\n",
       "      <td>90</td>\n",
       "      <td>45</td>\n",
       "      <td>34</td>\n",
       "    </tr>\n",
       "    <tr>\n",
       "      <th>3</th>\n",
       "      <td>45</td>\n",
       "      <td>32</td>\n",
       "      <td>55</td>\n",
       "    </tr>\n",
       "    <tr>\n",
       "      <th>4</th>\n",
       "      <td>70</td>\n",
       "      <td>77</td>\n",
       "      <td>89</td>\n",
       "    </tr>\n",
       "    <tr>\n",
       "      <th>5</th>\n",
       "      <td>56</td>\n",
       "      <td>80</td>\n",
       "      <td>70</td>\n",
       "    </tr>\n",
       "    <tr>\n",
       "      <th>6</th>\n",
       "      <td>60</td>\n",
       "      <td>54</td>\n",
       "      <td>55</td>\n",
       "    </tr>\n",
       "    <tr>\n",
       "      <th>7</th>\n",
       "      <td>45</td>\n",
       "      <td>70</td>\n",
       "      <td>79</td>\n",
       "    </tr>\n",
       "    <tr>\n",
       "      <th>8</th>\n",
       "      <td>34</td>\n",
       "      <td>77</td>\n",
       "      <td>76</td>\n",
       "    </tr>\n",
       "    <tr>\n",
       "      <th>9</th>\n",
       "      <td>25</td>\n",
       "      <td>87</td>\n",
       "      <td>60</td>\n",
       "    </tr>\n",
       "    <tr>\n",
       "      <th>10</th>\n",
       "      <td>88</td>\n",
       "      <td>40</td>\n",
       "      <td>43</td>\n",
       "    </tr>\n",
       "  </tbody>\n",
       "</table>\n",
       "</div>"
      ],
      "text/plain": [
       "            math_score  english_score  chinese_score\n",
       "student_id                                          \n",
       "1                   56             66             70\n",
       "2                   90             45             34\n",
       "3                   45             32             55\n",
       "4                   70             77             89\n",
       "5                   56             80             70\n",
       "6                   60             54             55\n",
       "7                   45             70             79\n",
       "8                   34             77             76\n",
       "9                   25             87             60\n",
       "10                  88             40             43"
      ]
     },
     "execution_count": 16,
     "metadata": {},
     "output_type": "execute_result"
    }
   ],
   "source": [
    "import pandas as pd\n",
    "score_df = pd.DataFrame([[1,56,66,70], \n",
    "              [2,90,45,34],\n",
    "              [3,45,32,55],\n",
    "              [4,70,77,89],\n",
    "              [5,56,80,70],\n",
    "              [6,60,54,55],\n",
    "              [7,45,70,79],\n",
    "              [8,34,77,76],\n",
    "              [9,25,87,60],\n",
    "              [10,88,40,43]],columns=['student_id','math_score','english_score','chinese_score'])\n",
    "score_df = score_df.set_index('student_id')\n",
    "score_df"
   ]
  },
  {
   "cell_type": "code",
   "execution_count": 4,
   "metadata": {
    "id": "qNfiH_CnY3Us"
   },
   "outputs": [],
   "source": [
    "#1.6號學生(student_id=6)3科平均分數為何?"
   ]
  },
  {
   "cell_type": "code",
   "execution_count": 23,
   "metadata": {},
   "outputs": [
    {
     "data": {
      "text/plain": [
       "56.3"
      ]
     },
     "execution_count": 23,
     "metadata": {},
     "output_type": "execute_result"
    }
   ],
   "source": [
    "round(score_df.loc[6].mean(),1)"
   ]
  },
  {
   "cell_type": "code",
   "execution_count": null,
   "metadata": {
    "id": "O-TfIm7oaAao"
   },
   "outputs": [],
   "source": [
    "#2. 6號學生3科平均分數是否有贏過班上一半的同學"
   ]
  },
  {
   "cell_type": "code",
   "execution_count": 27,
   "metadata": {},
   "outputs": [
    {
     "name": "stdout",
     "output_type": "stream",
     "text": [
      "student_id\n",
      "1     64.0\n",
      "2     56.3\n",
      "3     44.0\n",
      "4     78.7\n",
      "5     68.7\n",
      "6     56.3\n",
      "7     64.7\n",
      "8     62.3\n",
      "9     57.3\n",
      "10    57.0\n",
      "dtype: float64\n"
     ]
    },
    {
     "data": {
      "text/plain": [
       "59.8"
      ]
     },
     "execution_count": 27,
     "metadata": {},
     "output_type": "execute_result"
    }
   ],
   "source": [
    "print(round(score_df.mean(axis=1),1))\n",
    "\n",
    "round(score_df.mean(axis=1).median(),1)"
   ]
  },
  {
   "cell_type": "code",
   "execution_count": null,
   "metadata": {
    "id": "QNA0WHCIapPB"
   },
   "outputs": [],
   "source": [
    "#由於班上同學成績不好，所以學校統一加分，加分方式為開根號乘以十，請問6號同學3科成績分別是?"
   ]
  },
  {
   "cell_type": "code",
   "execution_count": 45,
   "metadata": {},
   "outputs": [
    {
     "name": "stdout",
     "output_type": "stream",
     "text": [
      "            math_score  english_score  chinese_score\n",
      "student_id                                          \n",
      "1            74.833148      81.240384      83.666003\n",
      "2            94.868330      67.082039      58.309519\n",
      "3            67.082039      56.568542      74.161985\n",
      "4            83.666003      87.749644      94.339811\n",
      "5            74.833148      89.442719      83.666003\n",
      "6            77.459667      73.484692      74.161985\n",
      "7            67.082039      83.666003      88.881944\n",
      "8            58.309519      87.749644      87.177979\n",
      "9            50.000000      93.273791      77.459667\n",
      "10           93.808315      63.245553      65.574385\n"
     ]
    },
    {
     "data": {
      "text/plain": [
       "75.0"
      ]
     },
     "execution_count": 45,
     "metadata": {},
     "output_type": "execute_result"
    }
   ],
   "source": [
    "import math\n",
    "plus_score = score_df.applymap(lambda x:math.sqrt(x)*10)\n",
    "print(plus_score)\n",
    "round(plus_score.loc[6].mean(),1)"
   ]
  },
  {
   "cell_type": "code",
   "execution_count": null,
   "metadata": {
    "id": "BG_bdbRFa6X4"
   },
   "outputs": [],
   "source": [
    "#承上題，加分後各科班平均變多少"
   ]
  },
  {
   "cell_type": "code",
   "execution_count": 43,
   "metadata": {
    "id": "2ZtRukpObNZx"
   },
   "outputs": [
    {
     "name": "stdout",
     "output_type": "stream",
     "text": [
      "math_score       56.9\n",
      "english_score    62.8\n",
      "chinese_score    63.1\n",
      "dtype: float64\n",
      "加分後\n",
      "math_score       74.2\n",
      "english_score    78.4\n",
      "chinese_score    78.7\n",
      "dtype: float64\n"
     ]
    }
   ],
   "source": [
    "print(round(score_df.mean(),1))\n",
    "print('加分後')\n",
    "print(round(plus_score.mean(),1))"
   ]
  },
  {
   "cell_type": "code",
   "execution_count": null,
   "metadata": {},
   "outputs": [],
   "source": []
  }
 ],
 "metadata": {
  "colab": {
   "collapsed_sections": [],
   "name": "計算函式及工具作業題目.ipynb ",
   "provenance": []
  },
  "kernelspec": {
   "display_name": "Python 3",
   "language": "python",
   "name": "python3"
  },
  "language_info": {
   "codemirror_mode": {
    "name": "ipython",
    "version": 3
   },
   "file_extension": ".py",
   "mimetype": "text/x-python",
   "name": "python",
   "nbconvert_exporter": "python",
   "pygments_lexer": "ipython3",
   "version": "3.7.0"
  }
 },
 "nbformat": 4,
 "nbformat_minor": 2
}
