{
 "cells": [
  {
   "cell_type": "markdown",
   "metadata": {
    "colab_type": "text",
    "id": "2X0xWGxdzgeg"
   },
   "source": [
    "**主要目標:**\n",
    "    作業目標(1): 繪製模型殘差 圖型\n",
    "\n",
    "    更改初始值設定\n",
    "溫馨叮嚀: 不熟悉使用沒關係, 提出來, 有專家陪跑"
   ]
  },
  {
   "cell_type": "markdown",
   "metadata": {
    "colab_type": "text",
    "id": "hQS6nhFj3DmX"
   },
   "source": [
    "# Seaborn圖樣式\n",
    "有五種預設seaborn主題：darkgrid，whitegrid，dark，white，和ticks。它們各自適合不同的應用和個人喜好。默認主題是darkgrid"
   ]
  },
  {
   "cell_type": "code",
   "execution_count": 6,
   "metadata": {
    "colab": {
     "base_uri": "https://localhost:8080/",
     "height": 34
    },
    "colab_type": "code",
    "id": "xSdq9M6N3DmY",
    "outputId": "85579a75-a87f-4b28-a8ee-76d05d758645"
   },
   "outputs": [
    {
     "data": {
      "application/vnd.google.colaboratory.intrinsic+json": {
       "type": "string"
      },
      "text/plain": [
       "'\\nx = rs.normal(2, 1, 75)\\ny = 2 + 1.5 * x + rs.normal(0, 2, 75)\\n'"
      ]
     },
     "execution_count": 6,
     "metadata": {
      "tags": []
     },
     "output_type": "execute_result"
    }
   ],
   "source": [
    "import numpy as np\n",
    "import seaborn as sns\n",
    "\n",
    "#設定圖形樣式 - whitegrid\n",
    "# use sns.set\n",
    "\n",
    "# 利用 NUMPY 去建立資料集\n",
    "# np.random.RandomState 設定數學式\n",
    "'''\n",
    "x = rs.normal(2, 1, 75)\n",
    "y = 2 + 1.5 * x + rs.normal(0, 2, 75)\n",
    "'''\n",
    "\n",
    "# 畫圖\n",
    "# sns.residplot"
   ]
  },
  {
   "cell_type": "markdown",
   "metadata": {},
   "source": [
    "# 殘差圖"
   ]
  },
  {
   "cell_type": "code",
   "execution_count": 26,
   "metadata": {},
   "outputs": [
    {
     "name": "stdout",
     "output_type": "stream",
     "text": [
      "[ 3.76405235  2.40015721  2.97873798  4.2408932   3.86755799  1.02272212\n",
      "  2.95008842  1.84864279  1.89678115  2.4105985   2.14404357  3.45427351\n",
      "  2.76103773  2.12167502  2.44386323  2.33367433  3.49407907  1.79484174\n",
      "  2.3130677   1.14590426 -0.55298982  2.6536186   2.8644362   1.25783498\n",
      "  4.26975462  0.54563433  2.04575852  1.81281615  3.53277921  3.46935877\n",
      "  2.15494743  2.37816252  1.11221425  0.01920353  1.65208785  2.15634897\n",
      "  3.23029068  3.20237985  1.61267318  1.69769725  0.95144703  0.57998206\n",
      "  0.29372981  3.9507754   1.49034782  1.5619257   0.74720464  2.77749036\n",
      "  0.38610215  1.78725972  1.10453344  2.3869025   1.48919486  0.81936782\n",
      "  1.97181777  2.42833187  2.06651722  2.3024719   1.36567791  1.63725883\n",
      "  1.32753955  1.64044684  1.18685372  0.2737174   2.17742614  1.59821906\n",
      "  0.36980165  2.46278226  1.09270164  2.0519454   2.72909056  2.12898291\n",
      "  3.13940068  0.76517418  2.40234164] [6.27645834 3.85864151 5.31040765 7.73823473 7.91366767 1.2037835\n",
      " 8.2267856  5.70428907 1.77268435 8.59240214 9.00784371 9.5389694\n",
      " 5.78170692 3.04100728 7.7746983  4.6941576  9.68600875 5.10881256\n",
      " 7.42287963 4.43158919 2.58366161 6.00142793 9.86839529 4.14057665\n",
      " 9.20861066 6.58475288 2.37311965 2.17825423 9.23796224 4.85779134\n",
      " 9.11966351 4.74000582 2.17341176 5.87468935 7.43916136 8.96964137\n",
      " 8.65752534 5.0811184  8.23913968 4.01053913 5.03208334 4.76447703\n",
      " 2.13057453 9.15432183 6.07993507 5.09573961 0.92200538 6.76271188\n",
      " 5.23192502 3.29175386 3.35753108 4.71004664 7.93231975 4.57364124\n",
      " 5.77265033 4.10266566 6.17827422 4.10504253 4.11217798 3.18419609\n",
      " 5.34417592 5.61385189 3.36368307 3.20258952 3.0800162  1.41481341\n",
      " 3.43348588 6.02752037 4.90911533 9.84420764 7.98259482 3.36782992\n",
      " 8.9431336  0.51594645 4.68034325]\n"
     ]
    },
    {
     "data": {
      "text/plain": [
       "<matplotlib.axes._subplots.AxesSubplot at 0xbb437f0>"
      ]
     },
     "execution_count": 26,
     "metadata": {},
     "output_type": "execute_result"
    },
    {
     "data": {
      "image/png": "[encoded data removed]",
      "text/plain": [
       "<Figure size 432x288 with 1 Axes>"
      ]
     },
     "metadata": {
      "needs_background": "light"
     },
     "output_type": "display_data"
    }
   ],
   "source": [
    "import numpy as np\n",
    "import seaborn as sns\n",
    "\n",
    "rs = np.random.RandomState(0)\n",
    "\n",
    "x = rs.normal(2, 1, 75)\n",
    "y = 2 + 1.5 * x + rs.normal(0, 2, 75)\n",
    "print(x,y)\n",
    "sns.residplot(x,y,color = 'b')"
   ]
  },
  {
   "cell_type": "markdown",
   "metadata": {},
   "source": [
    "# 分布圖"
   ]
  },
  {
   "cell_type": "markdown",
   "metadata": {
    "colab_type": "text",
    "id": "W4wzEsUrkegZ"
   },
   "source": [
    "繪製單變數分佈: \n",
    "快速檢視海出生單變數分佈的最便捷方式是distplot() 函數。默認情況下,這將繪製直方圖並適合內核密度估計值(KDE)。"
   ]
  },
  {
   "cell_type": "markdown",
   "metadata": {
    "colab_type": "text",
    "id": "gj86RGc6k0fV"
   },
   "source": [
    "作業目標(2)\n",
    "(1)使用 distplot()使用簡單的規則來正確猜測預設情況下正確的數位,但嘗試更多或更少的 bin 可能會顯示資料中的其他特徵:\n",
    "(2)有無kde對圖形分布的影響"
   ]
  },
  {
   "cell_type": "code",
   "execution_count": 12,
   "metadata": {
    "colab": {
     "base_uri": "https://localhost:8080/",
     "height": 268
    },
    "colab_type": "code",
    "id": "DunieTjAk3Ly",
    "outputId": "f857c268-3e0d-4aa2-db01-8bf87de71cf8"
   },
   "outputs": [
    {
     "data": {
      "image/png": "[encoded data removed]",
      "text/plain": [
       "<Figure size 432x288 with 1 Axes>"
      ]
     },
     "metadata": {
      "needs_background": "light"
     },
     "output_type": "display_data"
    }
   ],
   "source": [
    "# bin: 指的是特徵值, \n",
    "# kde: on/off\n",
    "# sns.distplot();\n",
    "\n",
    "x = np.random.normal(size=100)\n",
    "sns.distplot(x, bins=20, kde=False, rug=True);\n",
    "\n"
   ]
  },
  {
   "cell_type": "code",
   "execution_count": 11,
   "metadata": {},
   "outputs": [
    {
     "name": "stderr",
     "output_type": "stream",
     "text": [
      "C:\\Users\\artemis\\Anaconda3\\lib\\site-packages\\scipy\\stats\\stats.py:1713: FutureWarning: Using a non-tuple sequence for multidimensional indexing is deprecated; use `arr[tuple(seq)]` instead of `arr[seq]`. In the future this will be interpreted as an array index, `arr[np.array(seq)]`, which will result either in an error or a different result.\n",
      "  return np.add.reduce(sorted[indexer] * weights, axis=axis) / sumval\n"
     ]
    },
    {
     "data": {
      "image/png": "[encoded data removed]",
      "text/plain": [
       "<Figure size 432x288 with 1 Axes>"
      ]
     },
     "metadata": {
      "needs_background": "light"
     },
     "output_type": "display_data"
    }
   ],
   "source": [
    "sns.distplot(x, bins=10, kde=True, rug=True);"
   ]
  },
  {
   "cell_type": "code",
   "execution_count": null,
   "metadata": {},
   "outputs": [],
   "source": []
  }
 ],
 "metadata": {
  "colab": {
   "collapsed_sections": [],
   "name": "Data Visualization_Day-3_作業.ipynb",
   "provenance": []
  },
  "kernelspec": {
   "display_name": "Python 3",
   "language": "python",
   "name": "python3"
  },
  "language_info": {
   "codemirror_mode": {
    "name": "ipython",
    "version": 3
   },
   "file_extension": ".py",
   "mimetype": "text/x-python",
   "name": "python",
   "nbconvert_exporter": "python",
   "pygments_lexer": "ipython3",
   "version": "3.7.0"
  }
 },
 "nbformat": 4,
 "nbformat_minor": 2
}
