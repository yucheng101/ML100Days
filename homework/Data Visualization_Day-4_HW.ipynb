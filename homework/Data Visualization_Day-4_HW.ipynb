{
 "cells": [
  {
   "cell_type": "markdown",
   "metadata": {
    "colab_type": "text",
    "id": "q-gigy72KsQ7"
   },
   "source": [
    "目標: 使用 Seaborn 自帶的dataset, 利用 PANDAS 處理來繪製資料集的可是畫圖表\n",
    "\n",
    "重點: 不同型態的類別要套用的對應圖像是不一樣的\n",
    "\n",
    "作業: 取得另一個 dataset: titanic, \n",
    "\n",
    "(1) 做條形圖\n",
    "\n",
    "(2) 利用 facet grid 繪圖並分析\n",
    "\n",
    "(3) 繪製小提琴圖\n"
   ]
  },
  {
   "cell_type": "code",
   "execution_count": 4,
   "metadata": {
    "colab": {},
    "colab_type": "code",
    "id": "1aQwvVYyLQAa"
   },
   "outputs": [
    {
     "data": {
      "text/plain": [
       "'1.1.5'"
      ]
     },
     "execution_count": 4,
     "metadata": {},
     "output_type": "execute_result"
    }
   ],
   "source": [
    "# 導入必要的程式庫\n",
    "import pandas as pd\n",
    "import numpy as np\n",
    "import seaborn as sns\n",
    "from matplotlib import pyplot as plt\n",
    "\n",
    "# 取得資料集\n",
    "df = sns.load_dataset('titanic')\n",
    "pd.__version__"
   ]
  },
  {
   "cell_type": "code",
   "execution_count": 5,
   "metadata": {
    "colab": {
     "base_uri": "https://localhost:8080/",
     "height": 408
    },
    "colab_type": "code",
    "id": "XYhQE52jLhRW",
    "outputId": "b309f0ed-b76b-4cec-99a7-5cc8ff97c971"
   },
   "outputs": [
    {
     "name": "stdout",
     "output_type": "stream",
     "text": [
      "<class 'pandas.core.frame.DataFrame'>\n",
      "RangeIndex: 891 entries, 0 to 890\n",
      "Data columns (total 15 columns):\n",
      " #   Column       Non-Null Count  Dtype   \n",
      "---  ------       --------------  -----   \n",
      " 0   survived     891 non-null    int64   \n",
      " 1   pclass       891 non-null    int64   \n",
      " 2   sex          891 non-null    object  \n",
      " 3   age          714 non-null    float64 \n",
      " 4   sibsp        891 non-null    int64   \n",
      " 5   parch        891 non-null    int64   \n",
      " 6   fare         891 non-null    float64 \n",
      " 7   embarked     889 non-null    object  \n",
      " 8   class        891 non-null    category\n",
      " 9   who          891 non-null    object  \n",
      " 10  adult_male   891 non-null    bool    \n",
      " 11  deck         203 non-null    category\n",
      " 12  embark_town  889 non-null    object  \n",
      " 13  alive        891 non-null    object  \n",
      " 14  alone        891 non-null    bool    \n",
      "dtypes: bool(2), category(2), float64(2), int64(4), object(5)\n",
      "memory usage: 80.6+ KB\n"
     ]
    }
   ],
   "source": [
    "df.info()"
   ]
  },
  {
   "cell_type": "code",
   "execution_count": 26,
   "metadata": {
    "colab": {
     "base_uri": "https://localhost:8080/",
     "height": 279
    },
    "colab_type": "code",
    "id": "9ydYgLopMvK-",
    "outputId": "3de39179-5f0c-4629-d90b-7f1ef5b4bdee"
   },
   "outputs": [
    {
     "data": {
      "image/png": "[encoded data removed]",
      "text/plain": [
       "<Figure size 432x288 with 1 Axes>"
      ]
     },
     "metadata": {
      "tags": []
     },
     "output_type": "display_data"
    }
   ],
   "source": [
    "# 直接使用PANDAS dataframe, 當作參數\n",
    "#條形圖()顯示分類變數和連續變數之間的關係。數據以矩形條表示,其中條的長度表示該類別中數據的比例。\n",
    "'''\n",
    "在這邊coding\n",
    "sns.barplot\n",
    "'''"
   ]
  },
  {
   "cell_type": "code",
   "execution_count": 2,
   "metadata": {},
   "outputs": [
    {
     "data": {
      "text/plain": [
       "<matplotlib.axes._subplots.AxesSubplot at 0xa72c8d0>"
      ]
     },
     "execution_count": 2,
     "metadata": {},
     "output_type": "execute_result"
    },
    {
     "data": {
      "image/png": "[encoded data removed]",
      "text/plain": [
       "<Figure size 432x288 with 1 Axes>"
      ]
     },
     "metadata": {
      "needs_background": "light"
     },
     "output_type": "display_data"
    }
   ],
   "source": [
    "sns.barplot(x='sex',y='survived',data=df,hue = 'class')\n"
   ]
  },
  {
   "cell_type": "code",
   "execution_count": 7,
   "metadata": {},
   "outputs": [
    {
     "name": "stdout",
     "output_type": "stream",
     "text": [
      "Help on function barplot in module seaborn.categorical:\n",
      "\n",
      "barplot(x=None, y=None, hue=None, data=None, order=None, hue_order=None, estimator=<function mean at 0x0000000005160950>, ci=95, n_boot=1000, units=None, orient=None, color=None, palette=None, saturation=0.75, errcolor='.26', errwidth=None, capsize=None, dodge=True, ax=None, **kwargs)\n",
      "    Show point estimates and confidence intervals as rectangular bars.\n",
      "    \n",
      "    A bar plot represents an estimate of central tendency for a numeric\n",
      "    variable with the height of each rectangle and provides some indication of\n",
      "    the uncertainty around that estimate using error bars. Bar plots include 0\n",
      "    in the quantitative axis range, and they are a good choice when 0 is a\n",
      "    meaningful value for the quantitative variable, and you want to make\n",
      "    comparisons against it.\n",
      "    \n",
      "    For datasets where 0 is not a meaningful value, a point plot will allow you\n",
      "    to focus on differences between levels of one or more categorical\n",
      "    variables.\n",
      "    \n",
      "    It is also important to keep in mind that a bar plot shows only the mean\n",
      "    (or other estimator) value, but in many cases it may be more informative to\n",
      "    show the distribution of values at each level of the categorical variables.\n",
      "    In that case, other approaches such as a box or violin plot may be more\n",
      "    appropriate.\n",
      "    \n",
      "    \n",
      "    Input data can be passed in a variety of formats, including:\n",
      "    \n",
      "    - Vectors of data represented as lists, numpy arrays, or pandas Series\n",
      "      objects passed directly to the ``x``, ``y``, and/or ``hue`` parameters.\n",
      "    - A \"long-form\" DataFrame, in which case the ``x``, ``y``, and ``hue``\n",
      "      variables will determine how the data are plotted.\n",
      "    - A \"wide-form\" DataFrame, such that each numeric column will be plotted.\n",
      "    - An array or list of vectors.\n",
      "    \n",
      "    In most cases, it is possible to use numpy or Python objects, but pandas\n",
      "    objects are preferable because the associated names will be used to\n",
      "    annotate the axes. Additionally, you can use Categorical types for the\n",
      "    grouping variables to control the order of plot elements.    \n",
      "    \n",
      "    This function always treats one of the variables as categorical and\n",
      "    draws data at ordinal positions (0, 1, ... n) on the relevant axis, even\n",
      "    when the data has a numeric or date type.\n",
      "    \n",
      "    See the :ref:`tutorial <categorical_tutorial>` for more information.    \n",
      "    \n",
      "    Parameters\n",
      "    ----------\n",
      "    x, y, hue : names of variables in ``data`` or vector data, optional\n",
      "        Inputs for plotting long-form data. See examples for interpretation.        \n",
      "    data : DataFrame, array, or list of arrays, optional\n",
      "        Dataset for plotting. If ``x`` and ``y`` are absent, this is\n",
      "        interpreted as wide-form. Otherwise it is expected to be long-form.    \n",
      "    order, hue_order : lists of strings, optional\n",
      "        Order to plot the categorical levels in, otherwise the levels are\n",
      "        inferred from the data objects.        \n",
      "    estimator : callable that maps vector -> scalar, optional\n",
      "        Statistical function to estimate within each categorical bin.\n",
      "    ci : float or \"sd\" or None, optional\n",
      "        Size of confidence intervals to draw around estimated values.  If\n",
      "        \"sd\", skip bootstrapping and draw the standard deviation of the\n",
      "        observations. If ``None``, no bootstrapping will be performed, and\n",
      "        error bars will not be drawn.\n",
      "    n_boot : int, optional\n",
      "        Number of bootstrap iterations to use when computing confidence\n",
      "        intervals.\n",
      "    units : name of variable in ``data`` or vector data, optional\n",
      "        Identifier of sampling units, which will be used to perform a\n",
      "        multilevel bootstrap and account for repeated measures design.    \n",
      "    orient : \"v\" | \"h\", optional\n",
      "        Orientation of the plot (vertical or horizontal). This is usually\n",
      "        inferred from the dtype of the input variables, but can be used to\n",
      "        specify when the \"categorical\" variable is a numeric or when plotting\n",
      "        wide-form data.    \n",
      "    color : matplotlib color, optional\n",
      "        Color for all of the elements, or seed for a gradient palette.    \n",
      "    palette : palette name, list, or dict, optional\n",
      "        Colors to use for the different levels of the ``hue`` variable. Should\n",
      "        be something that can be interpreted by :func:`color_palette`, or a\n",
      "        dictionary mapping hue levels to matplotlib colors.    \n",
      "    saturation : float, optional\n",
      "        Proportion of the original saturation to draw colors at. Large patches\n",
      "        often look better with slightly desaturated colors, but set this to\n",
      "        ``1`` if you want the plot colors to perfectly match the input color\n",
      "        spec.    \n",
      "    errcolor : matplotlib color\n",
      "        Color for the lines that represent the confidence interval.\n",
      "    errwidth : float, optional\n",
      "        Thickness of error bar lines (and caps).         \n",
      "    capsize : float, optional\n",
      "        Width of the \"caps\" on error bars.\n",
      "    \n",
      "    dodge : bool, optional\n",
      "        When hue nesting is used, whether elements should be shifted along the\n",
      "        categorical axis.    \n",
      "    ax : matplotlib Axes, optional\n",
      "        Axes object to draw the plot onto, otherwise uses the current Axes.    \n",
      "    kwargs : key, value mappings\n",
      "        Other keyword arguments are passed through to ``plt.bar`` at draw\n",
      "        time.\n",
      "    \n",
      "    Returns\n",
      "    -------\n",
      "    ax : matplotlib Axes\n",
      "        Returns the Axes object with the plot drawn onto it.    \n",
      "    \n",
      "    See Also\n",
      "    --------\n",
      "    countplot : Show the counts of observations in each categorical bin.    \n",
      "    pointplot : Show point estimates and confidence intervals using scatterplot\n",
      "                glyphs.    \n",
      "    catplot : Combine a categorical plot with a class:`FacetGrid`.    \n",
      "    \n",
      "    Examples\n",
      "    --------\n",
      "    \n",
      "    Draw a set of vertical bar plots grouped by a categorical variable:\n",
      "    \n",
      "    .. plot::\n",
      "        :context: close-figs\n",
      "    \n",
      "        >>> import seaborn as sns\n",
      "        >>> sns.set(style=\"whitegrid\")\n",
      "        >>> tips = sns.load_dataset(\"tips\")\n",
      "        >>> ax = sns.barplot(x=\"day\", y=\"total_bill\", data=tips)\n",
      "    \n",
      "    Draw a set of vertical bars with nested grouping by a two variables:\n",
      "    \n",
      "    .. plot::\n",
      "        :context: close-figs\n",
      "    \n",
      "        >>> ax = sns.barplot(x=\"day\", y=\"total_bill\", hue=\"sex\", data=tips)\n",
      "    \n",
      "    Draw a set of horizontal bars:\n",
      "    \n",
      "    .. plot::\n",
      "        :context: close-figs\n",
      "    \n",
      "        >>> ax = sns.barplot(x=\"tip\", y=\"day\", data=tips)\n",
      "    \n",
      "    Control bar order by passing an explicit order:\n",
      "    \n",
      "    .. plot::\n",
      "        :context: close-figs\n",
      "    \n",
      "        >>> ax = sns.barplot(x=\"time\", y=\"tip\", data=tips,\n",
      "        ...                  order=[\"Dinner\", \"Lunch\"])\n",
      "    \n",
      "    Use median as the estimate of central tendency:\n",
      "    \n",
      "    .. plot::\n",
      "        :context: close-figs\n",
      "    \n",
      "        >>> from numpy import median\n",
      "        >>> ax = sns.barplot(x=\"day\", y=\"tip\", data=tips, estimator=median)\n",
      "    \n",
      "    Show the standard error of the mean with the error bars:\n",
      "    \n",
      "    .. plot::\n",
      "        :context: close-figs\n",
      "    \n",
      "        >>> ax = sns.barplot(x=\"day\", y=\"tip\", data=tips, ci=68)\n",
      "    \n",
      "    Show standard deviation of observations instead of a confidence interval:\n",
      "    \n",
      "    .. plot::\n",
      "        :context: close-figs\n",
      "    \n",
      "        >>> ax = sns.barplot(x=\"day\", y=\"tip\", data=tips, ci=\"sd\")\n",
      "    \n",
      "    Add \"caps\" to the error bars:\n",
      "    \n",
      "    .. plot::\n",
      "        :context: close-figs\n",
      "    \n",
      "        >>> ax = sns.barplot(x=\"day\", y=\"tip\", data=tips, capsize=.2)\n",
      "    \n",
      "    Use a different color palette for the bars:\n",
      "    \n",
      "    .. plot::\n",
      "        :context: close-figs\n",
      "    \n",
      "        >>> ax = sns.barplot(\"size\", y=\"total_bill\", data=tips,\n",
      "        ...                  palette=\"Blues_d\")\n",
      "    \n",
      "    Use ``hue`` without changing bar position or width:\n",
      "    \n",
      "    .. plot::\n",
      "        :context: close-figs\n",
      "    \n",
      "        >>> tips[\"weekend\"] = tips[\"day\"].isin([\"Sat\", \"Sun\"])\n",
      "        >>> ax = sns.barplot(x=\"day\", y=\"total_bill\", hue=\"weekend\",\n",
      "        ...                  data=tips, dodge=False)\n",
      "    \n",
      "    Plot all bars in a single color:\n",
      "    \n",
      "    .. plot::\n",
      "        :context: close-figs\n",
      "    \n",
      "        >>> ax = sns.barplot(\"size\", y=\"total_bill\", data=tips,\n",
      "        ...                  color=\"salmon\", saturation=.5)\n",
      "    \n",
      "    Use ``plt.bar`` keyword arguments to further change the aesthetic:\n",
      "    \n",
      "    .. plot::\n",
      "        :context: close-figs\n",
      "    \n",
      "        >>> ax = sns.barplot(\"day\", \"total_bill\", data=tips,\n",
      "        ...                  linewidth=2.5, facecolor=(1, 1, 1, 0),\n",
      "        ...                  errcolor=\".2\", edgecolor=\".2\")\n",
      "    \n",
      "    Use :func:`catplot` to combine a :func:`barplot` and a :class:`FacetGrid`.\n",
      "    This allows grouping within additional categorical variables. Using\n",
      "    :func:`catplot` is safer than using :class:`FacetGrid` directly, as it\n",
      "    ensures synchronization of variable order across facets:\n",
      "    \n",
      "    .. plot::\n",
      "        :context: close-figs\n",
      "    \n",
      "        >>> g = sns.catplot(x=\"sex\", y=\"total_bill\",\n",
      "        ...                 hue=\"smoker\", col=\"time\",\n",
      "        ...                 data=tips, kind=\"bar\",\n",
      "        ...                 height=4, aspect=.7);\n",
      "\n"
     ]
    }
   ],
   "source": [
    "help(sns.barplot)"
   ]
  },
  {
   "cell_type": "code",
   "execution_count": 6,
   "metadata": {},
   "outputs": [
    {
     "data": {
      "text/html": [
       "<div>\n",
       "<style scoped>\n",
       "    .dataframe tbody tr th:only-of-type {\n",
       "        vertical-align: middle;\n",
       "    }\n",
       "\n",
       "    .dataframe tbody tr th {\n",
       "        vertical-align: top;\n",
       "    }\n",
       "\n",
       "    .dataframe thead th {\n",
       "        text-align: right;\n",
       "    }\n",
       "</style>\n",
       "<table border=\"1\" class=\"dataframe\">\n",
       "  <thead>\n",
       "    <tr style=\"text-align: right;\">\n",
       "      <th></th>\n",
       "      <th>survived</th>\n",
       "      <th>pclass</th>\n",
       "      <th>sex</th>\n",
       "      <th>age</th>\n",
       "      <th>sibsp</th>\n",
       "      <th>parch</th>\n",
       "      <th>fare</th>\n",
       "      <th>embarked</th>\n",
       "      <th>class</th>\n",
       "      <th>who</th>\n",
       "      <th>adult_male</th>\n",
       "      <th>deck</th>\n",
       "      <th>embark_town</th>\n",
       "      <th>alive</th>\n",
       "      <th>alone</th>\n",
       "    </tr>\n",
       "  </thead>\n",
       "  <tbody>\n",
       "    <tr>\n",
       "      <th>0</th>\n",
       "      <td>0</td>\n",
       "      <td>3</td>\n",
       "      <td>male</td>\n",
       "      <td>22.0</td>\n",
       "      <td>1</td>\n",
       "      <td>0</td>\n",
       "      <td>7.2500</td>\n",
       "      <td>S</td>\n",
       "      <td>Third</td>\n",
       "      <td>man</td>\n",
       "      <td>True</td>\n",
       "      <td>NaN</td>\n",
       "      <td>Southampton</td>\n",
       "      <td>no</td>\n",
       "      <td>False</td>\n",
       "    </tr>\n",
       "    <tr>\n",
       "      <th>1</th>\n",
       "      <td>1</td>\n",
       "      <td>1</td>\n",
       "      <td>female</td>\n",
       "      <td>38.0</td>\n",
       "      <td>1</td>\n",
       "      <td>0</td>\n",
       "      <td>71.2833</td>\n",
       "      <td>C</td>\n",
       "      <td>First</td>\n",
       "      <td>woman</td>\n",
       "      <td>False</td>\n",
       "      <td>C</td>\n",
       "      <td>Cherbourg</td>\n",
       "      <td>yes</td>\n",
       "      <td>False</td>\n",
       "    </tr>\n",
       "    <tr>\n",
       "      <th>2</th>\n",
       "      <td>1</td>\n",
       "      <td>3</td>\n",
       "      <td>female</td>\n",
       "      <td>26.0</td>\n",
       "      <td>0</td>\n",
       "      <td>0</td>\n",
       "      <td>7.9250</td>\n",
       "      <td>S</td>\n",
       "      <td>Third</td>\n",
       "      <td>woman</td>\n",
       "      <td>False</td>\n",
       "      <td>NaN</td>\n",
       "      <td>Southampton</td>\n",
       "      <td>yes</td>\n",
       "      <td>True</td>\n",
       "    </tr>\n",
       "    <tr>\n",
       "      <th>3</th>\n",
       "      <td>1</td>\n",
       "      <td>1</td>\n",
       "      <td>female</td>\n",
       "      <td>35.0</td>\n",
       "      <td>1</td>\n",
       "      <td>0</td>\n",
       "      <td>53.1000</td>\n",
       "      <td>S</td>\n",
       "      <td>First</td>\n",
       "      <td>woman</td>\n",
       "      <td>False</td>\n",
       "      <td>C</td>\n",
       "      <td>Southampton</td>\n",
       "      <td>yes</td>\n",
       "      <td>False</td>\n",
       "    </tr>\n",
       "    <tr>\n",
       "      <th>4</th>\n",
       "      <td>0</td>\n",
       "      <td>3</td>\n",
       "      <td>male</td>\n",
       "      <td>35.0</td>\n",
       "      <td>0</td>\n",
       "      <td>0</td>\n",
       "      <td>8.0500</td>\n",
       "      <td>S</td>\n",
       "      <td>Third</td>\n",
       "      <td>man</td>\n",
       "      <td>True</td>\n",
       "      <td>NaN</td>\n",
       "      <td>Southampton</td>\n",
       "      <td>no</td>\n",
       "      <td>True</td>\n",
       "    </tr>\n",
       "    <tr>\n",
       "      <th>...</th>\n",
       "      <td>...</td>\n",
       "      <td>...</td>\n",
       "      <td>...</td>\n",
       "      <td>...</td>\n",
       "      <td>...</td>\n",
       "      <td>...</td>\n",
       "      <td>...</td>\n",
       "      <td>...</td>\n",
       "      <td>...</td>\n",
       "      <td>...</td>\n",
       "      <td>...</td>\n",
       "      <td>...</td>\n",
       "      <td>...</td>\n",
       "      <td>...</td>\n",
       "      <td>...</td>\n",
       "    </tr>\n",
       "    <tr>\n",
       "      <th>886</th>\n",
       "      <td>0</td>\n",
       "      <td>2</td>\n",
       "      <td>male</td>\n",
       "      <td>27.0</td>\n",
       "      <td>0</td>\n",
       "      <td>0</td>\n",
       "      <td>13.0000</td>\n",
       "      <td>S</td>\n",
       "      <td>Second</td>\n",
       "      <td>man</td>\n",
       "      <td>True</td>\n",
       "      <td>NaN</td>\n",
       "      <td>Southampton</td>\n",
       "      <td>no</td>\n",
       "      <td>True</td>\n",
       "    </tr>\n",
       "    <tr>\n",
       "      <th>887</th>\n",
       "      <td>1</td>\n",
       "      <td>1</td>\n",
       "      <td>female</td>\n",
       "      <td>19.0</td>\n",
       "      <td>0</td>\n",
       "      <td>0</td>\n",
       "      <td>30.0000</td>\n",
       "      <td>S</td>\n",
       "      <td>First</td>\n",
       "      <td>woman</td>\n",
       "      <td>False</td>\n",
       "      <td>B</td>\n",
       "      <td>Southampton</td>\n",
       "      <td>yes</td>\n",
       "      <td>True</td>\n",
       "    </tr>\n",
       "    <tr>\n",
       "      <th>888</th>\n",
       "      <td>0</td>\n",
       "      <td>3</td>\n",
       "      <td>female</td>\n",
       "      <td>NaN</td>\n",
       "      <td>1</td>\n",
       "      <td>2</td>\n",
       "      <td>23.4500</td>\n",
       "      <td>S</td>\n",
       "      <td>Third</td>\n",
       "      <td>woman</td>\n",
       "      <td>False</td>\n",
       "      <td>NaN</td>\n",
       "      <td>Southampton</td>\n",
       "      <td>no</td>\n",
       "      <td>False</td>\n",
       "    </tr>\n",
       "    <tr>\n",
       "      <th>889</th>\n",
       "      <td>1</td>\n",
       "      <td>1</td>\n",
       "      <td>male</td>\n",
       "      <td>26.0</td>\n",
       "      <td>0</td>\n",
       "      <td>0</td>\n",
       "      <td>30.0000</td>\n",
       "      <td>C</td>\n",
       "      <td>First</td>\n",
       "      <td>man</td>\n",
       "      <td>True</td>\n",
       "      <td>C</td>\n",
       "      <td>Cherbourg</td>\n",
       "      <td>yes</td>\n",
       "      <td>True</td>\n",
       "    </tr>\n",
       "    <tr>\n",
       "      <th>890</th>\n",
       "      <td>0</td>\n",
       "      <td>3</td>\n",
       "      <td>male</td>\n",
       "      <td>32.0</td>\n",
       "      <td>0</td>\n",
       "      <td>0</td>\n",
       "      <td>7.7500</td>\n",
       "      <td>Q</td>\n",
       "      <td>Third</td>\n",
       "      <td>man</td>\n",
       "      <td>True</td>\n",
       "      <td>NaN</td>\n",
       "      <td>Queenstown</td>\n",
       "      <td>no</td>\n",
       "      <td>True</td>\n",
       "    </tr>\n",
       "  </tbody>\n",
       "</table>\n",
       "<p>891 rows × 15 columns</p>\n",
       "</div>"
      ],
      "text/plain": [
       "     survived  pclass     sex   age  sibsp  parch     fare embarked   class  \\\n",
       "0           0       3    male  22.0      1      0   7.2500        S   Third   \n",
       "1           1       1  female  38.0      1      0  71.2833        C   First   \n",
       "2           1       3  female  26.0      0      0   7.9250        S   Third   \n",
       "3           1       1  female  35.0      1      0  53.1000        S   First   \n",
       "4           0       3    male  35.0      0      0   8.0500        S   Third   \n",
       "..        ...     ...     ...   ...    ...    ...      ...      ...     ...   \n",
       "886         0       2    male  27.0      0      0  13.0000        S  Second   \n",
       "887         1       1  female  19.0      0      0  30.0000        S   First   \n",
       "888         0       3  female   NaN      1      2  23.4500        S   Third   \n",
       "889         1       1    male  26.0      0      0  30.0000        C   First   \n",
       "890         0       3    male  32.0      0      0   7.7500        Q   Third   \n",
       "\n",
       "       who  adult_male deck  embark_town alive  alone  \n",
       "0      man        True  NaN  Southampton    no  False  \n",
       "1    woman       False    C    Cherbourg   yes  False  \n",
       "2    woman       False  NaN  Southampton   yes   True  \n",
       "3    woman       False    C  Southampton   yes  False  \n",
       "4      man        True  NaN  Southampton    no   True  \n",
       "..     ...         ...  ...          ...   ...    ...  \n",
       "886    man        True  NaN  Southampton    no   True  \n",
       "887  woman       False    B  Southampton   yes   True  \n",
       "888  woman       False  NaN  Southampton    no  False  \n",
       "889    man        True    C    Cherbourg   yes   True  \n",
       "890    man        True  NaN   Queenstown    no   True  \n",
       "\n",
       "[891 rows x 15 columns]"
      ]
     },
     "execution_count": 6,
     "metadata": {},
     "output_type": "execute_result"
    }
   ],
   "source": [
    "df"
   ]
  },
  {
   "cell_type": "markdown",
   "metadata": {
    "colab_type": "text",
    "id": "YBNLtpZT9cUn"
   },
   "source": [
    "在上面的示例中,我們可以看到每個班級中男性和女性的平均存活率。從情節中,我們可以理解,女性存活人數比男性多。在男性和女性中,更多的存活率來自頭等艙。\n",
    "\n",
    "barplot 中的特殊情況是顯示每個類別中的觀測值的\"否\",而不是計算第二個變數的統計資訊。\n",
    "\n"
   ]
  },
  {
   "cell_type": "markdown",
   "metadata": {
    "colab_type": "text",
    "id": "AJW0HUUryOnQ"
   },
   "source": [
    "\n",
    "繪製數據子集的小倍數。 FacetGrid 示例,\n",
    "\n",
    "FacetGrid 類有助於可視化一個變數的分佈,以及使用多個面板在數據集子集中分別顯示多個變數之間的關係。"
   ]
  },
  {
   "cell_type": "code",
   "execution_count": 35,
   "metadata": {
    "colab": {
     "base_uri": "https://localhost:8080/",
     "height": 225
    },
    "colab_type": "code",
    "id": "6AfkVr8FKaiw",
    "outputId": "96ad0acb-4b11-433c-ab87-b184a750ae1b"
   },
   "outputs": [
    {
     "data": {
      "image/png": "[encoded data removed]",
      "text/plain": [
       "<Figure size 432x216 with 2 Axes>"
      ]
     },
     "metadata": {
      "tags": []
     },
     "output_type": "display_data"
    }
   ],
   "source": [
    "# 瞭解性別在各艙等的分布的存活率\n",
    "'''\n",
    "在這邊coding\n",
    "g = sns.FacetGrid\n",
    "g.map\n",
    "'''\n",
    "\n"
   ]
  },
  {
   "cell_type": "code",
   "execution_count": null,
   "metadata": {},
   "outputs": [],
   "source": [
    "g = sns.FacetGrid(df,col='survived')\n",
    "g.map(sns.barplot,x='sex',y='alive', ci=None, order=['male','female'], palette='Blues')\n",
    "\n",
    "plt.show()\n"
   ]
  },
  {
   "cell_type": "code",
   "execution_count": 61,
   "metadata": {},
   "outputs": [
    {
     "data": {
      "text/plain": [
       "<matplotlib.axes._subplots.AxesSubplot at 0xf4a0ba8>"
      ]
     },
     "execution_count": 61,
     "metadata": {},
     "output_type": "execute_result"
    },
    {
     "data": {
      "image/png": "[encoded data removed]",
      "text/plain": [
       "<Figure size 432x288 with 1 Axes>"
      ]
     },
     "metadata": {},
     "output_type": "display_data"
    }
   ],
   "source": [
    "#sns.histplot(df['sex'],shrink=.5)\n",
    "sns.histplot(df['survived'].astype(str),shrink=.5)"
   ]
  },
  {
   "cell_type": "code",
   "execution_count": 49,
   "metadata": {},
   "outputs": [
    {
     "data": {
      "text/plain": [
       "<seaborn.axisgrid.FacetGrid at 0xd9f57f0>"
      ]
     },
     "execution_count": 49,
     "metadata": {},
     "output_type": "execute_result"
    },
    {
     "data": {
      "image/png": "[encoded data removed]",
      "text/plain": [
       "<Figure size 432x216 with 2 Axes>"
      ]
     },
     "metadata": {},
     "output_type": "display_data"
    }
   ],
   "source": [
    "sns.set_style(\"darkgrid\")\n",
    "g = sns.FacetGrid( df, col='survived' )\n",
    "g.map_dataframe(sns.histplot, x=\"sex\",shrink=.5)"
   ]
  },
  {
   "cell_type": "code",
   "execution_count": 48,
   "metadata": {},
   "outputs": [
    {
     "data": {
      "text/plain": [
       "<seaborn.axisgrid.FacetGrid at 0xd6837b8>"
      ]
     },
     "execution_count": 48,
     "metadata": {},
     "output_type": "execute_result"
    },
    {
     "data": {
      "image/png": "[encoded data removed]",
      "text/plain": [
       "<Figure size 432x216 with 2 Axes>"
      ]
     },
     "metadata": {},
     "output_type": "display_data"
    }
   ],
   "source": [
    "sns.set_style(\"darkgrid\")\n",
    "g = sns.FacetGrid( df, col='survived' )\n",
    "g.map_dataframe(sns.histplot, x=\"class\",shrink=.5)"
   ]
  },
  {
   "cell_type": "code",
   "execution_count": null,
   "metadata": {},
   "outputs": [],
   "source": [
    "sns.set_style(\"darkgrid\")\n",
    "g = sns.FacetGrid( df, col='survived' )\n",
    "g.map_dataframe(sns.histplot, x=\"sex\",shrink=.5)"
   ]
  },
  {
   "cell_type": "code",
   "execution_count": 15,
   "metadata": {},
   "outputs": [
    {
     "name": "stdout",
     "output_type": "stream",
     "text": [
      "Help on class FacetGrid in module seaborn.axisgrid:\n",
      "\n",
      "class FacetGrid(Grid)\n",
      " |  FacetGrid(data, row=None, col=None, hue=None, col_wrap=None, sharex=True, sharey=True, height=3, aspect=1, palette=None, row_order=None, col_order=None, hue_order=None, hue_kws=None, dropna=True, legend_out=True, despine=True, margin_titles=False, xlim=None, ylim=None, subplot_kws=None, gridspec_kws=None, size=None)\n",
      " |  \n",
      " |  Multi-plot grid for plotting conditional relationships.\n",
      " |  \n",
      " |  Method resolution order:\n",
      " |      FacetGrid\n",
      " |      Grid\n",
      " |      builtins.object\n",
      " |  \n",
      " |  Methods defined here:\n",
      " |  \n",
      " |  __init__(self, data, row=None, col=None, hue=None, col_wrap=None, sharex=True, sharey=True, height=3, aspect=1, palette=None, row_order=None, col_order=None, hue_order=None, hue_kws=None, dropna=True, legend_out=True, despine=True, margin_titles=False, xlim=None, ylim=None, subplot_kws=None, gridspec_kws=None, size=None)\n",
      " |      Initialize the matplotlib figure and FacetGrid object.\n",
      " |      \n",
      " |      This class maps a dataset onto multiple axes arrayed in a grid of rows\n",
      " |      and columns that correspond to *levels* of variables in the dataset.\n",
      " |      The plots it produces are often called \"lattice\", \"trellis\", or\n",
      " |      \"small-multiple\" graphics.\n",
      " |      \n",
      " |      It can also represent levels of a third varaible with the ``hue``\n",
      " |      parameter, which plots different subets of data in different colors.\n",
      " |      This uses color to resolve elements on a third dimension, but only\n",
      " |      draws subsets on top of each other and will not tailor the ``hue``\n",
      " |      parameter for the specific visualization the way that axes-level\n",
      " |      functions that accept ``hue`` will.\n",
      " |      \n",
      " |      When using seaborn functions that infer semantic mappings from a\n",
      " |      dataset, care must be taken to synchronize those mappings across\n",
      " |      facets. In most cases, it will be better to use a figure-level function\n",
      " |      (e.g. :func:`relplot` or :func:`catplot`) than to use\n",
      " |      :class:`FacetGrid` directly.\n",
      " |      \n",
      " |      The basic workflow is to initialize the :class:`FacetGrid` object with\n",
      " |      the dataset and the variables that are used to structure the grid. Then\n",
      " |      one or more plotting functions can be applied to each subset by calling\n",
      " |      :meth:`FacetGrid.map` or :meth:`FacetGrid.map_dataframe`. Finally, the\n",
      " |      plot can be tweaked with other methods to do things like change the\n",
      " |      axis labels, use different ticks, or add a legend. See the detailed\n",
      " |      code examples below for more information.\n",
      " |      \n",
      " |      See the :ref:`tutorial <grid_tutorial>` for more information.\n",
      " |      \n",
      " |      Parameters\n",
      " |      ----------\n",
      " |      data : DataFrame\n",
      " |          Tidy (\"long-form\") dataframe where each column is a variable and each\n",
      " |          row is an observation.    \n",
      " |      row, col, hue : strings\n",
      " |          Variables that define subsets of the data, which will be drawn on\n",
      " |          separate facets in the grid. See the ``*_order`` parameters to\n",
      " |          control the order of levels of this variable.\n",
      " |      col_wrap : int, optional\n",
      " |          \"Wrap\" the column variable at this width, so that the column facets\n",
      " |          span multiple rows. Incompatible with a ``row`` facet.    \n",
      " |      share{x,y} : bool, 'col', or 'row' optional\n",
      " |          If true, the facets will share y axes across columns and/or x axes\n",
      " |          across rows.    \n",
      " |      height : scalar, optional\n",
      " |          Height (in inches) of each facet. See also: ``aspect``.    \n",
      " |      aspect : scalar, optional\n",
      " |          Aspect ratio of each facet, so that ``aspect * height`` gives the width\n",
      " |          of each facet in inches.    \n",
      " |      palette : palette name, list, or dict, optional\n",
      " |          Colors to use for the different levels of the ``hue`` variable. Should\n",
      " |          be something that can be interpreted by :func:`color_palette`, or a\n",
      " |          dictionary mapping hue levels to matplotlib colors.    \n",
      " |      {row,col,hue}_order : lists, optional\n",
      " |          Order for the levels of the faceting variables. By default, this\n",
      " |          will be the order that the levels appear in ``data`` or, if the\n",
      " |          variables are pandas categoricals, the category order.\n",
      " |      hue_kws : dictionary of param -> list of values mapping\n",
      " |          Other keyword arguments to insert into the plotting call to let\n",
      " |          other plot attributes vary across levels of the hue variable (e.g.\n",
      " |          the markers in a scatterplot).\n",
      " |      legend_out : bool, optional\n",
      " |          If ``True``, the figure size will be extended, and the legend will be\n",
      " |          drawn outside the plot on the center right.    \n",
      " |      despine : boolean, optional\n",
      " |          Remove the top and right spines from the plots.\n",
      " |      margin_titles : bool, optional\n",
      " |          If ``True``, the titles for the row variable are drawn to the right of\n",
      " |          the last column. This option is experimental and may not work in all\n",
      " |          cases.    \n",
      " |      {x, y}lim: tuples, optional\n",
      " |          Limits for each of the axes on each facet (only relevant when\n",
      " |          share{x, y} is True.\n",
      " |      subplot_kws : dict, optional\n",
      " |          Dictionary of keyword arguments passed to matplotlib subplot(s)\n",
      " |          methods.\n",
      " |      gridspec_kws : dict, optional\n",
      " |          Dictionary of keyword arguments passed to matplotlib's ``gridspec``\n",
      " |          module (via ``plt.subplots``). Requires matplotlib >= 1.4 and is\n",
      " |          ignored if ``col_wrap`` is not ``None``.\n",
      " |      \n",
      " |      See Also\n",
      " |      --------\n",
      " |      PairGrid : Subplot grid for plotting pairwise relationships.\n",
      " |      relplot : Combine a relational plot and a :class:`FacetGrid`.\n",
      " |      catplot : Combine a categorical plot and a :class:`FacetGrid`.\n",
      " |      lmplot : Combine a regression plot and a :class:`FacetGrid`.\n",
      " |      \n",
      " |      Examples\n",
      " |      --------\n",
      " |      \n",
      " |      Initialize a 2x2 grid of facets using the tips dataset:\n",
      " |      \n",
      " |      .. plot::\n",
      " |          :context: close-figs\n",
      " |      \n",
      " |          >>> import seaborn as sns; sns.set(style=\"ticks\", color_codes=True)\n",
      " |          >>> tips = sns.load_dataset(\"tips\")\n",
      " |          >>> g = sns.FacetGrid(tips, col=\"time\", row=\"smoker\")\n",
      " |      \n",
      " |      Draw a univariate plot on each facet:\n",
      " |      \n",
      " |      .. plot::\n",
      " |          :context: close-figs\n",
      " |      \n",
      " |          >>> import matplotlib.pyplot as plt\n",
      " |          >>> g = sns.FacetGrid(tips, col=\"time\",  row=\"smoker\")\n",
      " |          >>> g = g.map(plt.hist, \"total_bill\")\n",
      " |      \n",
      " |      (Note that it's not necessary to re-catch the returned variable; it's\n",
      " |      the same object, but doing so in the examples makes dealing with the\n",
      " |      doctests somewhat less annoying).\n",
      " |      \n",
      " |      Pass additional keyword arguments to the mapped function:\n",
      " |      \n",
      " |      .. plot::\n",
      " |          :context: close-figs\n",
      " |      \n",
      " |          >>> import numpy as np\n",
      " |          >>> bins = np.arange(0, 65, 5)\n",
      " |          >>> g = sns.FacetGrid(tips, col=\"time\",  row=\"smoker\")\n",
      " |          >>> g = g.map(plt.hist, \"total_bill\", bins=bins, color=\"r\")\n",
      " |      \n",
      " |      Plot a bivariate function on each facet:\n",
      " |      \n",
      " |      .. plot::\n",
      " |          :context: close-figs\n",
      " |      \n",
      " |          >>> g = sns.FacetGrid(tips, col=\"time\",  row=\"smoker\")\n",
      " |          >>> g = g.map(plt.scatter, \"total_bill\", \"tip\", edgecolor=\"w\")\n",
      " |      \n",
      " |      Assign one of the variables to the color of the plot elements:\n",
      " |      \n",
      " |      .. plot::\n",
      " |          :context: close-figs\n",
      " |      \n",
      " |          >>> g = sns.FacetGrid(tips, col=\"time\",  hue=\"smoker\")\n",
      " |          >>> g = (g.map(plt.scatter, \"total_bill\", \"tip\", edgecolor=\"w\")\n",
      " |          ...       .add_legend())\n",
      " |      \n",
      " |      Change the height and aspect ratio of each facet:\n",
      " |      \n",
      " |      .. plot::\n",
      " |          :context: close-figs\n",
      " |      \n",
      " |          >>> g = sns.FacetGrid(tips, col=\"day\", height=4, aspect=.5)\n",
      " |          >>> g = g.map(plt.hist, \"total_bill\", bins=bins)\n",
      " |      \n",
      " |      Specify the order for plot elements:\n",
      " |      \n",
      " |      .. plot::\n",
      " |          :context: close-figs\n",
      " |      \n",
      " |          >>> g = sns.FacetGrid(tips, col=\"smoker\", col_order=[\"Yes\", \"No\"])\n",
      " |          >>> g = g.map(plt.hist, \"total_bill\", bins=bins, color=\"m\")\n",
      " |      \n",
      " |      Use a different color palette:\n",
      " |      \n",
      " |      .. plot::\n",
      " |          :context: close-figs\n",
      " |      \n",
      " |          >>> kws = dict(s=50, linewidth=.5, edgecolor=\"w\")\n",
      " |          >>> g = sns.FacetGrid(tips, col=\"sex\", hue=\"time\", palette=\"Set1\",\n",
      " |          ...                   hue_order=[\"Dinner\", \"Lunch\"])\n",
      " |          >>> g = (g.map(plt.scatter, \"total_bill\", \"tip\", **kws)\n",
      " |          ...      .add_legend())\n",
      " |      \n",
      " |      Use a dictionary mapping hue levels to colors:\n",
      " |      \n",
      " |      .. plot::\n",
      " |          :context: close-figs\n",
      " |      \n",
      " |          >>> pal = dict(Lunch=\"seagreen\", Dinner=\"gray\")\n",
      " |          >>> g = sns.FacetGrid(tips, col=\"sex\", hue=\"time\", palette=pal,\n",
      " |          ...                   hue_order=[\"Dinner\", \"Lunch\"])\n",
      " |          >>> g = (g.map(plt.scatter, \"total_bill\", \"tip\", **kws)\n",
      " |          ...      .add_legend())\n",
      " |      \n",
      " |      Additionally use a different marker for the hue levels:\n",
      " |      \n",
      " |      .. plot::\n",
      " |          :context: close-figs\n",
      " |      \n",
      " |          >>> g = sns.FacetGrid(tips, col=\"sex\", hue=\"time\", palette=pal,\n",
      " |          ...                   hue_order=[\"Dinner\", \"Lunch\"],\n",
      " |          ...                   hue_kws=dict(marker=[\"^\", \"v\"]))\n",
      " |          >>> g = (g.map(plt.scatter, \"total_bill\", \"tip\", **kws)\n",
      " |          ...      .add_legend())\n",
      " |      \n",
      " |      \"Wrap\" a column variable with many levels into the rows:\n",
      " |      \n",
      " |      .. plot::\n",
      " |          :context: close-figs\n",
      " |      \n",
      " |          >>> att = sns.load_dataset(\"attention\")\n",
      " |          >>> g = sns.FacetGrid(att, col=\"subject\", col_wrap=5, height=1.5)\n",
      " |          >>> g = g.map(plt.plot, \"solutions\", \"score\", marker=\".\")\n",
      " |      \n",
      " |      Define a custom bivariate function to map onto the grid:\n",
      " |      \n",
      " |      .. plot::\n",
      " |          :context: close-figs\n",
      " |      \n",
      " |          >>> from scipy import stats\n",
      " |          >>> def qqplot(x, y, **kwargs):\n",
      " |          ...     _, xr = stats.probplot(x, fit=False)\n",
      " |          ...     _, yr = stats.probplot(y, fit=False)\n",
      " |          ...     plt.scatter(xr, yr, **kwargs)\n",
      " |          >>> g = sns.FacetGrid(tips, col=\"smoker\", hue=\"sex\")\n",
      " |          >>> g = (g.map(qqplot, \"total_bill\", \"tip\", **kws)\n",
      " |          ...       .add_legend())\n",
      " |      \n",
      " |      Define a custom function that uses a ``DataFrame`` object and accepts\n",
      " |      column names as positional variables:\n",
      " |      \n",
      " |      .. plot::\n",
      " |          :context: close-figs\n",
      " |      \n",
      " |          >>> import pandas as pd\n",
      " |          >>> df = pd.DataFrame(\n",
      " |          ...     data=np.random.randn(90, 4),\n",
      " |          ...     columns=pd.Series(list(\"ABCD\"), name=\"walk\"),\n",
      " |          ...     index=pd.date_range(\"2015-01-01\", \"2015-03-31\",\n",
      " |          ...                         name=\"date\"))\n",
      " |          >>> df = df.cumsum(axis=0).stack().reset_index(name=\"val\")\n",
      " |          >>> def dateplot(x, y, **kwargs):\n",
      " |          ...     ax = plt.gca()\n",
      " |          ...     data = kwargs.pop(\"data\")\n",
      " |          ...     data.plot(x=x, y=y, ax=ax, grid=False, **kwargs)\n",
      " |          >>> g = sns.FacetGrid(df, col=\"walk\", col_wrap=2, height=3.5)\n",
      " |          >>> g = g.map_dataframe(dateplot, \"date\", \"val\")\n",
      " |      \n",
      " |      Use different axes labels after plotting:\n",
      " |      \n",
      " |      .. plot::\n",
      " |          :context: close-figs\n",
      " |      \n",
      " |          >>> g = sns.FacetGrid(tips, col=\"smoker\", row=\"sex\")\n",
      " |          >>> g = (g.map(plt.scatter, \"total_bill\", \"tip\", color=\"g\", **kws)\n",
      " |          ...       .set_axis_labels(\"Total bill (US Dollars)\", \"Tip\"))\n",
      " |      \n",
      " |      Set other attributes that are shared across the facetes:\n",
      " |      \n",
      " |      .. plot::\n",
      " |          :context: close-figs\n",
      " |      \n",
      " |          >>> g = sns.FacetGrid(tips, col=\"smoker\", row=\"sex\")\n",
      " |          >>> g = (g.map(plt.scatter, \"total_bill\", \"tip\", color=\"r\", **kws)\n",
      " |          ...       .set(xlim=(0, 60), ylim=(0, 12),\n",
      " |          ...            xticks=[10, 30, 50], yticks=[2, 6, 10]))\n",
      " |      \n",
      " |      Use a different template for the facet titles:\n",
      " |      \n",
      " |      .. plot::\n",
      " |          :context: close-figs\n",
      " |      \n",
      " |          >>> g = sns.FacetGrid(tips, col=\"size\", col_wrap=3)\n",
      " |          >>> g = (g.map(plt.hist, \"tip\", bins=np.arange(0, 13), color=\"c\")\n",
      " |          ...       .set_titles(\"{col_name} diners\"))\n",
      " |      \n",
      " |      Tighten the facets:\n",
      " |      \n",
      " |      .. plot::\n",
      " |          :context: close-figs\n",
      " |      \n",
      " |          >>> g = sns.FacetGrid(tips, col=\"smoker\", row=\"sex\",\n",
      " |          ...                   margin_titles=True)\n",
      " |          >>> g = (g.map(plt.scatter, \"total_bill\", \"tip\", color=\"m\", **kws)\n",
      " |          ...       .set(xlim=(0, 60), ylim=(0, 12),\n",
      " |          ...            xticks=[10, 30, 50], yticks=[2, 6, 10])\n",
      " |          ...       .fig.subplots_adjust(wspace=.05, hspace=.05))\n",
      " |  \n",
      " |  despine(self, **kwargs)\n",
      " |      Remove axis spines from the facets.\n",
      " |  \n",
      " |  facet_axis(self, row_i, col_j)\n",
      " |      Make the axis identified by these indices active and return it.\n",
      " |  \n",
      " |  facet_data(self)\n",
      " |      Generator for name indices and data subsets for each facet.\n",
      " |      \n",
      " |      Yields\n",
      " |      ------\n",
      " |      (i, j, k), data_ijk : tuple of ints, DataFrame\n",
      " |          The ints provide an index into the {row, col, hue}_names attribute,\n",
      " |          and the dataframe contains a subset of the full data corresponding\n",
      " |          to each facet. The generator yields subsets that correspond with\n",
      " |          the self.axes.flat iterator, or self.axes[i, j] when `col_wrap`\n",
      " |          is None.\n",
      " |  \n",
      " |  map(self, func, *args, **kwargs)\n",
      " |      Apply a plotting function to each facet's subset of the data.\n",
      " |      \n",
      " |      Parameters\n",
      " |      ----------\n",
      " |      func : callable\n",
      " |          A plotting function that takes data and keyword arguments. It\n",
      " |          must plot to the currently active matplotlib Axes and take a\n",
      " |          `color` keyword argument. If faceting on the `hue` dimension,\n",
      " |          it must also take a `label` keyword argument.\n",
      " |      args : strings\n",
      " |          Column names in self.data that identify variables with data to\n",
      " |          plot. The data for each variable is passed to `func` in the\n",
      " |          order the variables are specified in the call.\n",
      " |      kwargs : keyword arguments\n",
      " |          All keyword arguments are passed to the plotting function.\n",
      " |      \n",
      " |      Returns\n",
      " |      -------\n",
      " |      self : object\n",
      " |          Returns self.\n",
      " |  \n",
      " |  map_dataframe(self, func, *args, **kwargs)\n",
      " |      Like ``.map`` but passes args as strings and inserts data in kwargs.\n",
      " |      \n",
      " |      This method is suitable for plotting with functions that accept a\n",
      " |      long-form DataFrame as a `data` keyword argument and access the\n",
      " |      data in that DataFrame using string variable names.\n",
      " |      \n",
      " |      Parameters\n",
      " |      ----------\n",
      " |      func : callable\n",
      " |          A plotting function that takes data and keyword arguments. Unlike\n",
      " |          the `map` method, a function used here must \"understand\" Pandas\n",
      " |          objects. It also must plot to the currently active matplotlib Axes\n",
      " |          and take a `color` keyword argument. If faceting on the `hue`\n",
      " |          dimension, it must also take a `label` keyword argument.\n",
      " |      args : strings\n",
      " |          Column names in self.data that identify variables with data to\n",
      " |          plot. The data for each variable is passed to `func` in the\n",
      " |          order the variables are specified in the call.\n",
      " |      kwargs : keyword arguments\n",
      " |          All keyword arguments are passed to the plotting function.\n",
      " |      \n",
      " |      Returns\n",
      " |      -------\n",
      " |      self : object\n",
      " |          Returns self.\n",
      " |  \n",
      " |  set_axis_labels(self, x_var=None, y_var=None)\n",
      " |      Set axis labels on the left column and bottom row of the grid.\n",
      " |  \n",
      " |  set_titles(self, template=None, row_template=None, col_template=None, **kwargs)\n",
      " |      Draw titles either above each facet or on the grid margins.\n",
      " |      \n",
      " |      Parameters\n",
      " |      ----------\n",
      " |      template : string\n",
      " |          Template for all titles with the formatting keys {col_var} and\n",
      " |          {col_name} (if using a `col` faceting variable) and/or {row_var}\n",
      " |          and {row_name} (if using a `row` faceting variable).\n",
      " |      row_template:\n",
      " |          Template for the row variable when titles are drawn on the grid\n",
      " |          margins. Must have {row_var} and {row_name} formatting keys.\n",
      " |      col_template:\n",
      " |          Template for the row variable when titles are drawn on the grid\n",
      " |          margins. Must have {col_var} and {col_name} formatting keys.\n",
      " |      \n",
      " |      Returns\n",
      " |      -------\n",
      " |      self: object\n",
      " |          Returns self.\n",
      " |  \n",
      " |  set_xlabels(self, label=None, **kwargs)\n",
      " |      Label the x axis on the bottom row of the grid.\n",
      " |  \n",
      " |  set_xticklabels(self, labels=None, step=None, **kwargs)\n",
      " |      Set x axis tick labels on the bottom row of the grid.\n",
      " |  \n",
      " |  set_ylabels(self, label=None, **kwargs)\n",
      " |      Label the y axis on the left column of the grid.\n",
      " |  \n",
      " |  set_yticklabels(self, labels=None, **kwargs)\n",
      " |      Set y axis tick labels on the left column of the grid.\n",
      " |  \n",
      " |  ----------------------------------------------------------------------\n",
      " |  Data descriptors defined here:\n",
      " |  \n",
      " |  ax\n",
      " |      Easy access to single axes.\n",
      " |  \n",
      " |  ----------------------------------------------------------------------\n",
      " |  Methods inherited from Grid:\n",
      " |  \n",
      " |  add_legend(self, legend_data=None, title=None, label_order=None, **kwargs)\n",
      " |      Draw a legend, maybe placing it outside axes and resizing the figure.\n",
      " |      \n",
      " |      Parameters\n",
      " |      ----------\n",
      " |      legend_data : dict, optional\n",
      " |          Dictionary mapping label names to matplotlib artist handles. The\n",
      " |          default reads from ``self._legend_data``.\n",
      " |      title : string, optional\n",
      " |          Title for the legend. The default reads from ``self._hue_var``.\n",
      " |      label_order : list of labels, optional\n",
      " |          The order that the legend entries should appear in. The default\n",
      " |          reads from ``self.hue_names``.\n",
      " |      kwargs : key, value pairings\n",
      " |          Other keyword arguments are passed to the underlying legend methods\n",
      " |          on the Figure or Axes object.\n",
      " |      \n",
      " |      Returns\n",
      " |      -------\n",
      " |      self : Grid instance\n",
      " |          Returns self for easy chaining.\n",
      " |  \n",
      " |  savefig(self, *args, **kwargs)\n",
      " |      Save the figure.\n",
      " |  \n",
      " |  set(self, **kwargs)\n",
      " |      Set attributes on each subplot Axes.\n",
      " |  \n",
      " |  ----------------------------------------------------------------------\n",
      " |  Data descriptors inherited from Grid:\n",
      " |  \n",
      " |  __dict__\n",
      " |      dictionary for instance variables (if defined)\n",
      " |  \n",
      " |  __weakref__\n",
      " |      list of weak references to the object (if defined)\n",
      "\n"
     ]
    }
   ],
   "source": [
    "help(sns.FacetGrid)"
   ]
  },
  {
   "cell_type": "code",
   "execution_count": 9,
   "metadata": {
    "colab": {
     "base_uri": "https://localhost:8080/",
     "height": 341
    },
    "colab_type": "code",
    "id": "r6gKtgS1Emes",
    "outputId": "b5f59c6f-8f4a-4faa-9b25-e37902d04245"
   },
   "outputs": [
    {
     "data": {
      "text/plain": [
       "<matplotlib.axes._subplots.AxesSubplot at 0xa6c4be0>"
      ]
     },
     "execution_count": 9,
     "metadata": {},
     "output_type": "execute_result"
    },
    {
     "data": {
      "image/png": "[encoded data removed]",
      "text/plain": [
       "<Figure size 432x288 with 1 Axes>"
      ]
     },
     "metadata": {
      "needs_background": "light"
     },
     "output_type": "display_data"
    }
   ],
   "source": [
    "#先檢視各艙位存活人數，此時可以使用groupby函數進行分類，\n",
    "#其中 survived＝1表示存活，survived＝0表示死亡，將survived加總即為各艙等生存人數。\n",
    "\n",
    "survived = df.groupby('pclass').survived.sum()\n",
    "\n",
    "#加上性別\n",
    "survived = df.groupby(['pclass','sex']).survived.sum()\n",
    "survived.plot(kind='bar')"
   ]
  },
  {
   "cell_type": "code",
   "execution_count": 10,
   "metadata": {
    "colab": {
     "base_uri": "https://localhost:8080/",
     "height": 261
    },
    "colab_type": "code",
    "id": "HQvoM0jKEmg0",
    "outputId": "3c1451e7-672e-4d70-a977-a511ae47e448"
   },
   "outputs": [
    {
     "data": {
      "text/html": [
       "<div>\n",
       "<style scoped>\n",
       "    .dataframe tbody tr th:only-of-type {\n",
       "        vertical-align: middle;\n",
       "    }\n",
       "\n",
       "    .dataframe tbody tr th {\n",
       "        vertical-align: top;\n",
       "    }\n",
       "\n",
       "    .dataframe thead th {\n",
       "        text-align: right;\n",
       "    }\n",
       "</style>\n",
       "<table border=\"1\" class=\"dataframe\">\n",
       "  <thead>\n",
       "    <tr style=\"text-align: right;\">\n",
       "      <th></th>\n",
       "      <th>survived</th>\n",
       "      <th>0</th>\n",
       "      <th>1</th>\n",
       "    </tr>\n",
       "    <tr>\n",
       "      <th>pclass</th>\n",
       "      <th>sex</th>\n",
       "      <th></th>\n",
       "      <th></th>\n",
       "    </tr>\n",
       "  </thead>\n",
       "  <tbody>\n",
       "    <tr>\n",
       "      <th rowspan=\"2\" valign=\"top\">1</th>\n",
       "      <th>female</th>\n",
       "      <td>3</td>\n",
       "      <td>91</td>\n",
       "    </tr>\n",
       "    <tr>\n",
       "      <th>male</th>\n",
       "      <td>77</td>\n",
       "      <td>45</td>\n",
       "    </tr>\n",
       "    <tr>\n",
       "      <th rowspan=\"2\" valign=\"top\">2</th>\n",
       "      <th>female</th>\n",
       "      <td>6</td>\n",
       "      <td>70</td>\n",
       "    </tr>\n",
       "    <tr>\n",
       "      <th>male</th>\n",
       "      <td>91</td>\n",
       "      <td>17</td>\n",
       "    </tr>\n",
       "    <tr>\n",
       "      <th rowspan=\"2\" valign=\"top\">3</th>\n",
       "      <th>female</th>\n",
       "      <td>72</td>\n",
       "      <td>72</td>\n",
       "    </tr>\n",
       "    <tr>\n",
       "      <th>male</th>\n",
       "      <td>300</td>\n",
       "      <td>47</td>\n",
       "    </tr>\n",
       "  </tbody>\n",
       "</table>\n",
       "</div>"
      ],
      "text/plain": [
       "survived         0   1\n",
       "pclass sex            \n",
       "1      female    3  91\n",
       "       male     77  45\n",
       "2      female    6  70\n",
       "       male     91  17\n",
       "3      female   72  72\n",
       "       male    300  47"
      ]
     },
     "execution_count": 10,
     "metadata": {},
     "output_type": "execute_result"
    }
   ],
   "source": [
    "#使用pd.crosstab函數繪製交叉表，交叉表可以很直觀的依據艙位等級及性別來查看存活人數及死亡人數。\n",
    "#繪製堆疊條形圖，x軸代表依據艙等分成男性及女性，y軸代表人數，其中藍色代表死亡人數，橘色代表存活人數。\n",
    "survived_counts = pd.crosstab([df.pclass, df.sex],df.survived)\n",
    "survived_counts "
   ]
  },
  {
   "cell_type": "code",
   "execution_count": 11,
   "metadata": {},
   "outputs": [
    {
     "data": {
      "text/html": [
       "<div>\n",
       "<style scoped>\n",
       "    .dataframe tbody tr th:only-of-type {\n",
       "        vertical-align: middle;\n",
       "    }\n",
       "\n",
       "    .dataframe tbody tr th {\n",
       "        vertical-align: top;\n",
       "    }\n",
       "\n",
       "    .dataframe thead th {\n",
       "        text-align: right;\n",
       "    }\n",
       "</style>\n",
       "<table border=\"1\" class=\"dataframe\">\n",
       "  <thead>\n",
       "    <tr style=\"text-align: right;\">\n",
       "      <th></th>\n",
       "      <th>alone</th>\n",
       "      <th>False</th>\n",
       "      <th>True</th>\n",
       "    </tr>\n",
       "    <tr>\n",
       "      <th>pclass</th>\n",
       "      <th>sex</th>\n",
       "      <th></th>\n",
       "      <th></th>\n",
       "    </tr>\n",
       "  </thead>\n",
       "  <tbody>\n",
       "    <tr>\n",
       "      <th rowspan=\"2\" valign=\"top\">1</th>\n",
       "      <th>female</th>\n",
       "      <td>60</td>\n",
       "      <td>34</td>\n",
       "    </tr>\n",
       "    <tr>\n",
       "      <th>male</th>\n",
       "      <td>47</td>\n",
       "      <td>75</td>\n",
       "    </tr>\n",
       "    <tr>\n",
       "      <th rowspan=\"2\" valign=\"top\">2</th>\n",
       "      <th>female</th>\n",
       "      <td>44</td>\n",
       "      <td>32</td>\n",
       "    </tr>\n",
       "    <tr>\n",
       "      <th>male</th>\n",
       "      <td>36</td>\n",
       "      <td>72</td>\n",
       "    </tr>\n",
       "    <tr>\n",
       "      <th rowspan=\"2\" valign=\"top\">3</th>\n",
       "      <th>female</th>\n",
       "      <td>84</td>\n",
       "      <td>60</td>\n",
       "    </tr>\n",
       "    <tr>\n",
       "      <th>male</th>\n",
       "      <td>83</td>\n",
       "      <td>264</td>\n",
       "    </tr>\n",
       "  </tbody>\n",
       "</table>\n",
       "</div>"
      ],
      "text/plain": [
       "alone          False  True \n",
       "pclass sex                 \n",
       "1      female     60     34\n",
       "       male       47     75\n",
       "2      female     44     32\n",
       "       male       36     72\n",
       "3      female     84     60\n",
       "       male       83    264"
      ]
     },
     "execution_count": 11,
     "metadata": {},
     "output_type": "execute_result"
    }
   ],
   "source": [
    "df.pivot_table(index=['pclass','sex'], columns = ['alone'],values ='survived',aggfunc='count')"
   ]
  },
  {
   "cell_type": "markdown",
   "metadata": {},
   "source": [
    "####   數字轉str,    columns = df['survived'].astype(str)"
   ]
  },
  {
   "cell_type": "code",
   "execution_count": 12,
   "metadata": {},
   "outputs": [
    {
     "data": {
      "text/html": [
       "<div>\n",
       "<style scoped>\n",
       "    .dataframe tbody tr th:only-of-type {\n",
       "        vertical-align: middle;\n",
       "    }\n",
       "\n",
       "    .dataframe tbody tr th {\n",
       "        vertical-align: top;\n",
       "    }\n",
       "\n",
       "    .dataframe thead th {\n",
       "        text-align: right;\n",
       "    }\n",
       "</style>\n",
       "<table border=\"1\" class=\"dataframe\">\n",
       "  <thead>\n",
       "    <tr style=\"text-align: right;\">\n",
       "      <th></th>\n",
       "      <th>survived</th>\n",
       "      <th>0</th>\n",
       "      <th>1</th>\n",
       "    </tr>\n",
       "    <tr>\n",
       "      <th>pclass</th>\n",
       "      <th>sex</th>\n",
       "      <th></th>\n",
       "      <th></th>\n",
       "    </tr>\n",
       "  </thead>\n",
       "  <tbody>\n",
       "    <tr>\n",
       "      <th rowspan=\"2\" valign=\"top\">1</th>\n",
       "      <th>female</th>\n",
       "      <td>3</td>\n",
       "      <td>91</td>\n",
       "    </tr>\n",
       "    <tr>\n",
       "      <th>male</th>\n",
       "      <td>77</td>\n",
       "      <td>45</td>\n",
       "    </tr>\n",
       "    <tr>\n",
       "      <th rowspan=\"2\" valign=\"top\">2</th>\n",
       "      <th>female</th>\n",
       "      <td>6</td>\n",
       "      <td>70</td>\n",
       "    </tr>\n",
       "    <tr>\n",
       "      <th>male</th>\n",
       "      <td>91</td>\n",
       "      <td>17</td>\n",
       "    </tr>\n",
       "    <tr>\n",
       "      <th rowspan=\"2\" valign=\"top\">3</th>\n",
       "      <th>female</th>\n",
       "      <td>72</td>\n",
       "      <td>72</td>\n",
       "    </tr>\n",
       "    <tr>\n",
       "      <th>male</th>\n",
       "      <td>300</td>\n",
       "      <td>47</td>\n",
       "    </tr>\n",
       "  </tbody>\n",
       "</table>\n",
       "</div>"
      ],
      "text/plain": [
       "survived         0   1\n",
       "pclass sex            \n",
       "1      female    3  91\n",
       "       male     77  45\n",
       "2      female    6  70\n",
       "       male     91  17\n",
       "3      female   72  72\n",
       "       male    300  47"
      ]
     },
     "execution_count": 12,
     "metadata": {},
     "output_type": "execute_result"
    }
   ],
   "source": [
    "df1 =df.pivot_table(index=['pclass','sex'], columns = df['survived'].astype(str),values ='survived',aggfunc='count')\n",
    "df1"
   ]
  },
  {
   "cell_type": "code",
   "execution_count": 65,
   "metadata": {
    "colab": {
     "base_uri": "https://localhost:8080/",
     "height": 341
    },
    "colab_type": "code",
    "id": "rt_WucueJXfa",
    "outputId": "f28f5184-bd49-48cf-c56b-0943566d8d52"
   },
   "outputs": [
    {
     "data": {
      "text/plain": [
       "<matplotlib.axes._subplots.AxesSubplot at 0x7ff8aa4edeb8>"
      ]
     },
     "execution_count": 65,
     "metadata": {
      "tags": []
     },
     "output_type": "execute_result"
    },
    {
     "data": {
      "image/png": "[encoded data removed]",
      "text/plain": [
       "<Figure size 432x288 with 1 Axes>"
      ]
     },
     "metadata": {
      "tags": []
     },
     "output_type": "display_data"
    }
   ],
   "source": [
    "'''\n",
    "在這邊coding\n",
    "使用survived_counts.plot做對照組\n",
    "'''"
   ]
  },
  {
   "cell_type": "code",
   "execution_count": 18,
   "metadata": {},
   "outputs": [
    {
     "name": "stdout",
     "output_type": "stream",
     "text": [
      "survived         0   1\n",
      "pclass sex            \n",
      "1      female    3  91\n",
      "       male     77  45\n",
      "2      female    6  70\n",
      "       male     91  17\n",
      "3      female   72  72\n",
      "       male    300  47\n"
     ]
    },
    {
     "data": {
      "text/plain": [
       "<matplotlib.axes._subplots.AxesSubplot at 0xab982e8>"
      ]
     },
     "execution_count": 18,
     "metadata": {},
     "output_type": "execute_result"
    },
    {
     "data": {
      "image/png": "[encoded data removed]",
      "text/plain": [
       "<Figure size 432x288 with 1 Axes>"
      ]
     },
     "metadata": {
      "needs_background": "light"
     },
     "output_type": "display_data"
    }
   ],
   "source": [
    "sur = df1.groupby(['pclass','sex']).sum()\n",
    "print(sur)\n",
    "sur.plot(kind='bar', stacked=True,colormap= 'Set1', grid = True)"
   ]
  },
  {
   "cell_type": "code",
   "execution_count": 98,
   "metadata": {
    "colab": {
     "base_uri": "https://localhost:8080/",
     "height": 279
    },
    "colab_type": "code",
    "id": "pRYfeRVMKetm",
    "outputId": "565c85ff-00f7-40be-9c24-d6ce8d4b9439"
   },
   "outputs": [
    {
     "data": {
      "image/png": "[encoded data removed]",
      "text/plain": [
       "<Figure size 432x288 with 1 Axes>"
      ]
     },
     "metadata": {},
     "output_type": "display_data"
    }
   ],
   "source": [
    "# 直接使用PANDAS dataframe, 當作參數\n",
    "#條形圖()顯示分類變數和連續變數之間的關係。數據以矩形條表示,其中條的長度表示該類別中數據的比例。\n",
    "\n",
    "sns.violinplot(data=df1)\n",
    "plt.show()\n"
   ]
  },
  {
   "cell_type": "code",
   "execution_count": 23,
   "metadata": {
    "colab": {
     "base_uri": "https://localhost:8080/",
     "height": 433
    },
    "colab_type": "code",
    "id": "Pk8RXLriMe-c",
    "outputId": "f6f23946-f7da-496b-b564-f1cdf94fe172"
   },
   "outputs": [
    {
     "data": {
      "text/plain": [
       "<function seaborn.axisgrid.FacetGrid.map(self, func, *args, **kwargs)>"
      ]
     },
     "execution_count": 23,
     "metadata": {},
     "output_type": "execute_result"
    }
   ],
   "source": [
    "# 瞭解性別在各艙等的分布的存活率\n",
    "'''\n",
    "#在這邊coding\n",
    "g = sns.FacetGrid\n",
    "g.map\n",
    "h = sns.FacetGrid\n",
    "h.map\n",
    "\n",
    "# PS: 跟第一次做 Face.Grid 有何不同??"
   ]
  },
  {
   "cell_type": "code",
   "execution_count": 26,
   "metadata": {},
   "outputs": [
    {
     "data": {
      "text/plain": [
       "<seaborn.axisgrid.FacetGrid at 0xb472080>"
      ]
     },
     "execution_count": 26,
     "metadata": {},
     "output_type": "execute_result"
    },
    {
     "data": {
      "image/png": "[encoded data removed]",
      "text/plain": [
       "<Figure size 432x216 with 2 Axes>"
      ]
     },
     "metadata": {},
     "output_type": "display_data"
    },
    {
     "data": {
      "image/png": "[encoded data removed]",
      "text/plain": [
       "<Figure size 432x216 with 2 Axes>"
      ]
     },
     "metadata": {},
     "output_type": "display_data"
    }
   ],
   "source": [
    "\n",
    "sns.set_style(\"darkgrid\")\n",
    "g = sns.FacetGrid( df, col='survived' )\n",
    "g.map_dataframe(sns.histplot, x=\"pclass\",shrink=2)\n",
    "\n",
    "\n",
    "sns.set_style(\"white\")\n",
    "h = sns.FacetGrid( df, col='survived' )\n",
    "h.map_dataframe(sns.histplot, x=\"sex\",shrink=.3)"
   ]
  },
  {
   "cell_type": "markdown",
   "metadata": {
    "colab_type": "text",
    "id": "ylzsxRLV4MJm"
   },
   "source": [
    "\n",
    "可以嘗試其他的參數對照組合\n",
    "\n",
    " 0   survived        \n",
    " 1   pclass         \n",
    " 2   sex            \n",
    " 3   age          \n",
    " 5   parch           \n",
    " 6   fare        \n",
    " 7   embarked   \n",
    " 8   class   \n",
    " 9   who           \n",
    " 10  adult_male   \n",
    " 11  deck      \n",
    " 12  embark_town   \n",
    " 13  alive         \n",
    " 14  alone        "
   ]
  }
 ],
 "metadata": {
  "colab": {
   "name": "Data Visualization_Day-4作業.ipynb",
   "provenance": []
  },
  "kernelspec": {
   "display_name": "Python 3",
   "language": "python",
   "name": "python3"
  },
  "language_info": {
   "codemirror_mode": {
    "name": "ipython",
    "version": 3
   },
   "file_extension": ".py",
   "mimetype": "text/x-python",
   "name": "python",
   "nbconvert_exporter": "python",
   "pygments_lexer": "ipython3",
   "version": "3.7.0"
  }
 },
 "nbformat": 4,
 "nbformat_minor": 2
}
