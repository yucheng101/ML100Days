{
 "cells": [
  {
   "cell_type": "markdown",
   "metadata": {
    "id": "C2qkILqtM8Wg"
   },
   "source": [
    "作業目標:<br>\r\n",
    "1.讀取各種檔案格式<br>\r\n",
    "2.輸出各種檔案格式<br>"
   ]
  },
  {
   "cell_type": "markdown",
   "metadata": {
    "id": "t47Sf6ejNLn7"
   },
   "source": [
    "作業重點:<br>\r\n",
    "1.不同檔案讀取方式皆不同，須了解檔案格式中的邏輯，例如:csv是以逗號分隔<br>\r\n",
    "2.讀取、輸出檔案的程式碼不同，須注意使用方式"
   ]
  },
  {
   "cell_type": "markdown",
   "metadata": {
    "id": "IabouywFNmI7"
   },
   "source": [
    "題目: <br>\r\n",
    "讀取資料夾中boston.csv讀取其欄位CHAS、NOX、RM，輸出成.xlsx檔案"
   ]
  },
  {
   "cell_type": "code",
   "execution_count": 5,
   "metadata": {
    "id": "Rid6t1NoNrlB"
   },
   "outputs": [],
   "source": [
    "import pandas as pd"
   ]
  },
  {
   "cell_type": "code",
   "execution_count": null,
   "metadata": {
    "id": "YGXm3I0VMvSG"
   },
   "outputs": [],
   "source": [
    "#讀取資料夾中boston.csv讀取其欄位CHAS、NOX、RM，輸出成.xlsx檔案\r\n"
   ]
  },
  {
   "cell_type": "code",
   "execution_count": 9,
   "metadata": {
    "id": "RkTGpcqfMvSH"
   },
   "outputs": [
    {
     "name": "stdout",
     "output_type": "stream",
     "text": [
      "     CHAS    NOX     RM\n",
      "0     0.0  0.538  6.575\n",
      "1     0.0  0.469  6.421\n",
      "2     0.0  0.469  7.185\n",
      "3     0.0  0.458  6.998\n",
      "4     0.0  0.458  7.147\n",
      "5     0.0  0.458  6.430\n",
      "6     0.0  0.524  6.012\n",
      "7     0.0  0.524  6.172\n",
      "8     0.0  0.524  5.631\n",
      "9     0.0  0.524  6.004\n",
      "10    0.0  0.524  6.377\n",
      "11    0.0  0.524  6.009\n",
      "12    0.0  0.524  5.889\n",
      "13    0.0  0.538  5.949\n",
      "14    0.0  0.538  6.096\n",
      "15    0.0  0.538  5.834\n",
      "16    0.0  0.538  5.935\n",
      "17    0.0  0.538  5.990\n",
      "18    0.0  0.538  5.456\n",
      "19    0.0  0.538  5.727\n",
      "20    0.0  0.538  5.570\n",
      "21    0.0  0.538  5.965\n",
      "22    0.0  0.538  6.142\n",
      "23    0.0  0.538  5.813\n",
      "24    0.0  0.538  5.924\n",
      "25    0.0  0.538  5.599\n",
      "26    0.0  0.538  5.813\n",
      "27    0.0  0.538  6.047\n",
      "28    0.0  0.538  6.495\n",
      "29    0.0  0.538  6.674\n",
      "..    ...    ...    ...\n",
      "476   0.0  0.614  6.484\n",
      "477   0.0  0.614  5.304\n",
      "478   0.0  0.614  6.185\n",
      "479   0.0  0.614  6.229\n",
      "480   0.0  0.532  6.242\n",
      "481   0.0  0.532  6.750\n",
      "482   0.0  0.532  7.061\n",
      "483   0.0  0.532  5.762\n",
      "484   0.0  0.583  5.871\n",
      "485   0.0  0.583  6.312\n",
      "486   0.0  0.583  6.114\n",
      "487   0.0  0.583  5.905\n",
      "488   0.0  0.609  5.454\n",
      "489   0.0  0.609  5.414\n",
      "490   0.0  0.609  5.093\n",
      "491   0.0  0.609  5.983\n",
      "492   0.0  0.609  5.983\n",
      "493   0.0  0.585  5.707\n",
      "494   0.0  0.585  5.926\n",
      "495   0.0  0.585  5.670\n",
      "496   0.0  0.585  5.390\n",
      "497   0.0  0.585  5.794\n",
      "498   0.0  0.585  6.019\n",
      "499   0.0  0.585  5.569\n",
      "500   0.0  0.585  6.027\n",
      "501   0.0  0.573  6.593\n",
      "502   0.0  0.573  6.120\n",
      "503   0.0  0.573  6.976\n",
      "504   0.0  0.573  6.794\n",
      "505   0.0  0.573  6.030\n",
      "\n",
      "[506 rows x 3 columns]\n"
     ]
    }
   ],
   "source": [
    "df = pd.read_csv('boston.csv',usecols=['CHAS','NOX','RM'])\n",
    "print(df)\n",
    "df = df.to_excel('boston.xlsx')"
   ]
  },
  {
   "cell_type": "code",
   "execution_count": null,
   "metadata": {},
   "outputs": [],
   "source": []
  }
 ],
 "metadata": {
  "colab": {
   "collapsed_sections": [],
   "name": "pandas_io_homework題目.ipynb",
   "provenance": []
  },
  "kernelspec": {
   "display_name": "Python 3",
   "language": "python",
   "name": "python3"
  },
  "language_info": {
   "codemirror_mode": {
    "name": "ipython",
    "version": 3
   },
   "file_extension": ".py",
   "mimetype": "text/x-python",
   "name": "python",
   "nbconvert_exporter": "python",
   "pygments_lexer": "ipython3",
   "version": "3.7.0"
  }
 },
 "nbformat": 4,
 "nbformat_minor": 2
}
